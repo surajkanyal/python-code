{
 "cells": [
  {
   "cell_type": "markdown",
   "id": "7683623f",
   "metadata": {},
   "source": [
    "# Beautiful soup"
   ]
  },
  {
   "cell_type": "code",
   "execution_count": 1,
   "id": "7ee24cc5",
   "metadata": {},
   "outputs": [],
   "source": [
    "from bs4 import BeautifulSoup"
   ]
  },
  {
   "cell_type": "markdown",
   "id": "c108425c",
   "metadata": {},
   "source": [
    "Just for learning we will use offline website "
   ]
  },
  {
   "cell_type": "code",
   "execution_count": 2,
   "id": "9aa91955",
   "metadata": {},
   "outputs": [
    {
     "data": {
      "text/plain": [
       "'<!DOCTYPE html>\\n<html>\\n\\n<head>\\n\\t<meta charset=\"utf-8\">\\n\\t<title>Angela\\'s Personal Site</title>\\n</head>\\n\\n<body>\\n\\t<h1 id=\"name\">Angela Yu</h1>\\n\\t<p><em>Founder of <strong><a href=\"https://www.appbrewery.co/\">The App Brewery</a></strong>.</em></p>\\n\\t<p>I am an iOS and Web Developer. I ❤️ coffee and motorcycles.</p>\\n\\t<hr>\\n\\t<h3 class=\"heading\">Books and Teaching</h3>\\n\\t<ul>\\n\\t\\t<li>The Complete iOS App Development Bootcamp</li>\\n\\t\\t<li>The Complete Web Development Bootcamp</li>\\n\\t\\t<li>100 Days of Code - The Complete Python Bootcamp</li>\\n\\t</ul>\\n\\t<hr>\\n\\t<h3 class=\"heading\">Other Pages</h3>\\n\\t<a href=\"https://angelabauer.github.io/cv/hobbies.html\">My Hobbies</a>\\n\\t<a href=\"https://angelabauer.github.io/cv/contact-me.html\">Contact Me</a>\\n</body>\\n\\n</html>'"
      ]
     },
     "execution_count": 2,
     "metadata": {},
     "output_type": "execute_result"
    }
   ],
   "source": [
    "with open('website.html') as file:\n",
    "    content = file.read()\n",
    "content"
   ]
  },
  {
   "cell_type": "code",
   "execution_count": 3,
   "id": "848a9a7c",
   "metadata": {},
   "outputs": [],
   "source": [
    "# creating an object\n",
    "# import lxml  we can also use other parser\n",
    "soup = BeautifulSoup(content , 'html.parser')\n",
    "                    # content and Parser"
   ]
  },
  {
   "cell_type": "code",
   "execution_count": 4,
   "id": "48b33c13",
   "metadata": {},
   "outputs": [
    {
     "name": "stdout",
     "output_type": "stream",
     "text": [
      "<title>Angela's Personal Site</title>\n"
     ]
    }
   ],
   "source": [
    "# lets see the simple use of object soup\n",
    "print(soup.title)"
   ]
  },
  {
   "cell_type": "code",
   "execution_count": 5,
   "id": "e2cc129b",
   "metadata": {},
   "outputs": [
    {
     "name": "stdout",
     "output_type": "stream",
     "text": [
      "Angela's Personal Site\n"
     ]
    }
   ],
   "source": [
    "print(soup.title.string)"
   ]
  },
  {
   "cell_type": "code",
   "execution_count": 6,
   "id": "883d8003",
   "metadata": {},
   "outputs": [
    {
     "name": "stdout",
     "output_type": "stream",
     "text": [
      "<!DOCTYPE html>\n",
      "<html>\n",
      " <head>\n",
      "  <meta charset=\"utf-8\"/>\n",
      "  <title>\n",
      "   Angela's Personal Site\n",
      "  </title>\n",
      " </head>\n",
      " <body>\n",
      "  <h1 id=\"name\">\n",
      "   Angela Yu\n",
      "  </h1>\n",
      "  <p>\n",
      "   <em>\n",
      "    Founder of\n",
      "    <strong>\n",
      "     <a href=\"https://www.appbrewery.co/\">\n",
      "      The App Brewery\n",
      "     </a>\n",
      "    </strong>\n",
      "    .\n",
      "   </em>\n",
      "  </p>\n",
      "  <p>\n",
      "   I am an iOS and Web Developer. I ❤️ coffee and motorcycles.\n",
      "  </p>\n",
      "  <hr/>\n",
      "  <h3 class=\"heading\">\n",
      "   Books and Teaching\n",
      "  </h3>\n",
      "  <ul>\n",
      "   <li>\n",
      "    The Complete iOS App Development Bootcamp\n",
      "   </li>\n",
      "   <li>\n",
      "    The Complete Web Development Bootcamp\n",
      "   </li>\n",
      "   <li>\n",
      "    100 Days of Code - The Complete Python Bootcamp\n",
      "   </li>\n",
      "  </ul>\n",
      "  <hr/>\n",
      "  <h3 class=\"heading\">\n",
      "   Other Pages\n",
      "  </h3>\n",
      "  <a href=\"https://angelabauer.github.io/cv/hobbies.html\">\n",
      "   My Hobbies\n",
      "  </a>\n",
      "  <a href=\"https://angelabauer.github.io/cv/contact-me.html\">\n",
      "   Contact Me\n",
      "  </a>\n",
      " </body>\n",
      "</html>\n",
      "\n"
     ]
    }
   ],
   "source": [
    "print(soup.prettify())  #prettified the code"
   ]
  },
  {
   "cell_type": "markdown",
   "id": "e8550453",
   "metadata": {},
   "source": [
    "### find_all"
   ]
  },
  {
   "cell_type": "code",
   "execution_count": 9,
   "id": "eb5f1ce1",
   "metadata": {},
   "outputs": [
    {
     "name": "stdout",
     "output_type": "stream",
     "text": [
      "[<a href=\"https://www.appbrewery.co/\">The App Brewery</a>, <a href=\"https://angelabauer.github.io/cv/hobbies.html\">My Hobbies</a>, <a href=\"https://angelabauer.github.io/cv/contact-me.html\">Contact Me</a>]\n"
     ]
    }
   ],
   "source": [
    "# take use of tags ,attributes to find\n",
    "all_anchor_tag = soup.find_all(name = 'a')\n",
    "print(all_anchor_tag)"
   ]
  },
  {
   "cell_type": "code",
   "execution_count": 10,
   "id": "32e9c89a",
   "metadata": {},
   "outputs": [
    {
     "name": "stdout",
     "output_type": "stream",
     "text": [
      "The App Brewery\n",
      "My Hobbies\n",
      "Contact Me\n"
     ]
    }
   ],
   "source": [
    "# getting only text\n",
    "for tag in all_anchor_tag:\n",
    "    print(tag.getText())"
   ]
  },
  {
   "cell_type": "code",
   "execution_count": 13,
   "id": "61838e12",
   "metadata": {},
   "outputs": [
    {
     "name": "stdout",
     "output_type": "stream",
     "text": [
      "https://www.appbrewery.co/\n",
      "https://angelabauer.github.io/cv/hobbies.html\n",
      "https://angelabauer.github.io/cv/contact-me.html\n"
     ]
    }
   ],
   "source": [
    "# and for inside tags\n",
    "for tag in all_anchor_tag:\n",
    "    print(tag.get('href'))"
   ]
  },
  {
   "cell_type": "markdown",
   "id": "e3dab6fe",
   "metadata": {},
   "source": [
    "### find\n",
    "seraches by attribute name"
   ]
  },
  {
   "cell_type": "code",
   "execution_count": 17,
   "id": "8eb9e092",
   "metadata": {},
   "outputs": [
    {
     "name": "stdout",
     "output_type": "stream",
     "text": [
      "Angela Yu\n"
     ]
    }
   ],
   "source": [
    "# find gives the earliest occurence of searching attribute\n",
    "heading = soup.find(name = 'h1',id = 'name')\n",
    "print(heading.string)  #.string gives the tags value\n",
    "print(heading.name)    # name will give the nameof heading"
   ]
  },
  {
   "cell_type": "code",
   "execution_count": 19,
   "id": "a93309c5",
   "metadata": {},
   "outputs": [
    {
     "name": "stdout",
     "output_type": "stream",
     "text": [
      "Books and Teaching\n"
     ]
    }
   ],
   "source": [
    "#another\n",
    "section_head = soup.find(name = 'h3',class_ = 'heading')# class is reserved keyword and therefore we must use'_' after class\n",
    "print(section_head.string)"
   ]
  },
  {
   "cell_type": "markdown",
   "id": "61a450ba",
   "metadata": {},
   "source": [
    "###  using selectors\n",
    "selectors can be of html type ,css type "
   ]
  },
  {
   "cell_type": "code",
   "execution_count": 21,
   "id": "07705a9f",
   "metadata": {},
   "outputs": [
    {
     "name": "stdout",
     "output_type": "stream",
     "text": [
      "Angela Yu\n"
     ]
    }
   ],
   "source": [
    "name = soup.select_one(selector = '#name') # select one selects first occurence\n",
    "print(name.string)"
   ]
  },
  {
   "cell_type": "code",
   "execution_count": 23,
   "id": "d5573a6b",
   "metadata": {},
   "outputs": [
    {
     "name": "stdout",
     "output_type": "stream",
     "text": [
      "[<p><em>Founder of <strong><a href=\"https://www.appbrewery.co/\">The App Brewery</a></strong>.</em></p>, <p>I am an iOS and Web Developer. I ❤️ coffee and motorcycles.</p>]\n"
     ]
    }
   ],
   "source": [
    "print(soup.select(selector = 'p'))"
   ]
  },
  {
   "cell_type": "code",
   "execution_count": 24,
   "id": "96e792e5",
   "metadata": {},
   "outputs": [
    {
     "name": "stdout",
     "output_type": "stream",
     "text": [
      "<p><em>Founder of <strong><a href=\"https://www.appbrewery.co/\">The App Brewery</a></strong>.</em></p>\n"
     ]
    }
   ],
   "source": [
    "print(soup.select_one(selector='p'))"
   ]
  },
  {
   "cell_type": "code",
   "execution_count": 26,
   "id": "85ad76b0",
   "metadata": {},
   "outputs": [
    {
     "name": "stdout",
     "output_type": "stream",
     "text": [
      "[<a href=\"https://www.appbrewery.co/\">The App Brewery</a>]\n"
     ]
    }
   ],
   "source": [
    "print(soup.select(selector = 'p a' )) # selects like css selector p then a"
   ]
  },
  {
   "cell_type": "code",
   "execution_count": 29,
   "id": "0d01558b",
   "metadata": {},
   "outputs": [
    {
     "name": "stdout",
     "output_type": "stream",
     "text": [
      "[<h3 class=\"heading\">Books and Teaching</h3>, <h3 class=\"heading\">Other Pages</h3>]\n"
     ]
    }
   ],
   "source": [
    "heading = soup.select(\".heading\") #will select the tag with heading class\n",
    "print(heading)"
   ]
  },
  {
   "cell_type": "markdown",
   "id": "4a226026",
   "metadata": {},
   "source": [
    "###  Here are some advice while scarping\n",
    "\n",
    "must aabide their rules and respect owner\n",
    "you can check the rule through adding '/robot.txt' at end of url or after '.com'\n",
    "their is a point of crawl- delay --- it tells n.o of seconds you should leave after each time of crawling\n"
   ]
  }
 ],
 "metadata": {
  "kernelspec": {
   "display_name": "Python 3 (ipykernel)",
   "language": "python",
   "name": "python3"
  },
  "language_info": {
   "codemirror_mode": {
    "name": "ipython",
    "version": 3
   },
   "file_extension": ".py",
   "mimetype": "text/x-python",
   "name": "python",
   "nbconvert_exporter": "python",
   "pygments_lexer": "ipython3",
   "version": "3.11.3"
  }
 },
 "nbformat": 4,
 "nbformat_minor": 5
}
