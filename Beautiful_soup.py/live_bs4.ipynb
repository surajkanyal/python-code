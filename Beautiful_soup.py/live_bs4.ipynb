{
 "cells": [
  {
   "cell_type": "code",
   "execution_count": 5,
   "id": "49a6a060",
   "metadata": {},
   "outputs": [
    {
     "name": "stdout",
     "output_type": "stream",
     "text": [
      "<Response [200]>\n"
     ]
    }
   ],
   "source": [
    "# lets scrap website\n",
    "from bs4 import BeautifulSoup\n",
    "import requests\n",
    "\n",
    "#getting response from the website\n",
    "response = requests.get('https://news.ycombinator.com/')\n",
    "print(response)"
   ]
  },
  {
   "cell_type": "code",
   "execution_count": 6,
   "id": "5254c678",
   "metadata": {},
   "outputs": [
    {
     "name": "stdout",
     "output_type": "stream",
     "text": [
      "None\n"
     ]
    }
   ],
   "source": [
    "print(response.raise_for_status())"
   ]
  },
  {
   "cell_type": "code",
   "execution_count": 9,
   "id": "050ae7bb",
   "metadata": {},
   "outputs": [
    {
     "name": "stdout",
     "output_type": "stream",
     "text": [
      "<html lang=\"en\" op=\"news\"><head><meta name=\"referrer\" content=\"origin\"><meta name=\"viewport\" content=\"width=device-width, initial-scale=1.0\"><link rel=\"stylesheet\" type=\"text/css\" href=\"news.css?T3QETNg1BzyPiSEKZpB5\">\n",
      "        <link rel=\"shortcut icon\" href=\"favicon.ico\">\n",
      "          <link rel=\"alternate\" type=\"application/rss+xml\" title=\"RSS\" href=\"rss\">\n",
      "        <title>Hacker News</title></head><body><center><table id=\"hnmain\" border=\"0\" cellpadding=\"0\" cellspacing=\"0\" width=\"85%\" bgcolor=\"#f6f6ef\">\n",
      "        <tr><td bgcolor=\"#ff6600\"><table border=\"0\" cellpadding=\"0\" cellspacing=\"0\" width=\"100%\" style=\"padding:2px\"><tr><td style=\"width:18px;padding-right:4px\"><a href=\"https://news.ycombinator.com\"><img src=\"y18.svg\" width=\"18\" height=\"18\" style=\"border:1px white solid; display:block\"></a></td>\n",
      "                  <td style=\"line-height:12pt; height:10px;\"><span class=\"pagetop\"><b class=\"hnname\"><a href=\"news\">Hacker News</a></b>\n",
      "                            <a href=\"newest\">new</a> | <a href=\"front\">past</a> | <a href=\"newcomments\">comments</a> | <a href=\"ask\">ask</a> | <a href=\"show\">show</a> | <a href=\"jobs\">jobs</a> | <a href=\"submit\">submit</a>            </span></td><td style=\"text-align:right;padding-right:4px;\"><span class=\"pagetop\">\n",
      "                              <a href=\"login?goto=news\">login</a>\n",
      "                          </span></td>\n",
      "              </tr></table></td></tr>\n",
      "<tr id=\"pagespace\" title=\"\" style=\"height:10px\"></tr><tr><td><table border=\"0\" cellpadding=\"0\" cellspacing=\"0\">\n",
      "            <tr class='athing' id='36857314'>\n",
      "      <td align=\"right\" valign=\"top\" class=\"title\"><span class=\"rank\">1.</span></td>      <td valign=\"top\" class=\"votelinks\"><center><a id='up_36857314'href='vote?id=36857314&amp;how=up&amp;goto=news'><div class='votearrow' title='upvote'></div></a></center></td><td class=\"title\"><span class=\"titleline\"><a href=\"https://infosec.exchange/@paco/110772422266480371\" rel=\"noreferrer\">Got called to a professor’s office after a complaint his Sparc4 was running slow</a><span class=\"sitebit comhead\"> (<a href=\"from?site=infosec.exchange\"><span class=\"sitestr\">infosec.exchange</span></a>)</span></span></td></tr><tr><td colspan=\"2\"></td><td class=\"subtext\"><span class=\"subline\">\n",
      "          <span class=\"score\" id=\"score_36857314\">58 points</span> by <a href=\"user?id=luu\" class=\"hnuser\">luu</a> <span class=\"age\" title=\"2023-07-25T03:00:26\"><a href=\"item?id=36857314\">2 hours ago</a></span> <span id=\"unv_36857314\"></span> | <a href=\"hide?id=36857314&amp;goto=news\">hide</a> | <a href=\"item?id=36857314\">15&nbsp;comments</a>        </span>\n",
      "              </td></tr>\n",
      "      <tr class=\"spacer\" style=\"height:5px\"></tr>\n",
      "                <tr class='athing' id='36851494'>\n",
      "      <td align=\"right\" valign=\"top\" class=\"title\"><span class=\"rank\">2.</span></td>      <td valign=\"top\" class=\"votelinks\"><center><a id='up_36851494'href='vote?id=36851494&amp;how=up&amp;goto=news'><div class='votearrow' title='upvote'></div></a></center></td><td class=\"title\"><span class=\"titleline\"><a href=\"https://www.evanmiller.org/attention-is-off-by-one.html\" rel=\"noreferrer\">Attention Is Off By One</a><span class=\"sitebit comhead\"> (<a href=\"from?site=evanmiller.org\"><span class=\"sitestr\">evanmiller.org</span></a>)</span></span></td></tr><tr><td colspan=\"2\"></td><td class=\"subtext\"><span class=\"subline\">\n",
      "          <span class=\"score\" id=\"score_36851494\">746 points</span> by <a href=\"user?id=elbasti\" class=\"hnuser\">elbasti</a> <span class=\"age\" title=\"2023-07-24T17:33:06\"><a href=\"item?id=36851494\">11 hours ago</a></span> <span id=\"unv_36851494\"></span> | <a href=\"hide?id=36851494&amp;goto=news\">hide</a> | <a href=\"item?id=36851494\">254&nbsp;comments</a>        </span>\n",
      "              </td></tr>\n",
      "      <tr class=\"spacer\" style=\"height:5px\"></tr>\n",
      "                <tr class='athing' id='36851644'>\n",
      "      <td align=\"right\" valign=\"top\" class=\"title\"><span class=\"rank\">3.</span></td>      <td valign=\"top\" class=\"votelinks\"><center><a id='up_36851644'href='vote?id=36851644&amp;how=up&amp;goto=news'><div class='votearrow' title='upvote'></div></a></center></td><td class=\"title\"><span class=\"titleline\"><a href=\"https://slimemoldtimemold.com/2023/07/24/your-mystery-have-attention-spans-been-declining/\" rel=\"noreferrer\">Have attention spans been declining?</a><span class=\"sitebit comhead\"> (<a href=\"from?site=slimemoldtimemold.com\"><span class=\"sitestr\">slimemoldtimemold.com</span></a>)</span></span></td></tr><tr><td colspan=\"2\"></td><td class=\"subtext\"><span class=\"subline\">\n",
      "          <span class=\"score\" id=\"score_36851644\">494 points</span> by <a href=\"user?id=janandonly\" class=\"hnuser\">janandonly</a> <span class=\"age\" title=\"2023-07-24T17:43:37\"><a href=\"item?id=36851644\">11 hours ago</a></span> <span id=\"unv_36851644\"></span> | <a href=\"hide?id=36851644&amp;goto=news\">hide</a> | <a href=\"item?id=36851644\">347&nbsp;comments</a>        </span>\n",
      "              </td></tr>\n",
      "      <tr class=\"spacer\" style=\"height:5px\"></tr>\n",
      "                <tr class='athing' id='36855516'>\n",
      "      <td align=\"right\" valign=\"top\" class=\"title\"><span class=\"rank\">4.</span></td>      <td valign=\"top\" class=\"votelinks\"><center><a id='up_36855516'href='vote?id=36855516&amp;how=up&amp;goto=news'><div class='votearrow' title='upvote'></div></a></center></td><td class=\"title\"><span class=\"titleline\"><a href=\"https://observablehq.com/@ayhanfuat/the-fall-of-stack-overflow\" rel=\"noreferrer\">The Fall of Stack Overflow</a><span class=\"sitebit comhead\"> (<a href=\"from?site=observablehq.com\"><span class=\"sitestr\">observablehq.com</span></a>)</span></span></td></tr><tr><td colspan=\"2\"></td><td class=\"subtext\"><span class=\"subline\">\n",
      "          <span class=\"score\" id=\"score_36855516\">153 points</span> by <a href=\"user?id=ayhanfuat\" class=\"hnuser\">ayhanfuat</a> <span class=\"age\" title=\"2023-07-24T23:11:56\"><a href=\"item?id=36855516\">6 hours ago</a></span> <span id=\"unv_36855516\"></span> | <a href=\"hide?id=36855516&amp;goto=news\">hide</a> | <a href=\"item?id=36855516\">175&nbsp;comments</a>        </span>\n",
      "              </td></tr>\n",
      "      <tr class=\"spacer\" style=\"height:5px\"></tr>\n",
      "                <tr class='athing' id='36848680'>\n",
      "      <td align=\"right\" valign=\"top\" class=\"title\"><span class=\"rank\">5.</span></td>      <td valign=\"top\" class=\"votelinks\"><center><a id='up_36848680'href='vote?id=36848680&amp;how=up&amp;goto=news'><div class='votearrow' title='upvote'></div></a></center></td><td class=\"title\"><span class=\"titleline\"><a href=\"https://lock.cmpxchg8b.com/zenbleed.html\" rel=\"noreferrer\">Zenbleed</a><span class=\"sitebit comhead\"> (<a href=\"from?site=cmpxchg8b.com\"><span class=\"sitestr\">cmpxchg8b.com</span></a>)</span></span></td></tr><tr><td colspan=\"2\"></td><td class=\"subtext\"><span class=\"subline\">\n",
      "          <span class=\"score\" id=\"score_36848680\">955 points</span> by <a href=\"user?id=loeg\" class=\"hnuser\">loeg</a> <span class=\"age\" title=\"2023-07-24T14:34:31\"><a href=\"item?id=36848680\">14 hours ago</a></span> <span id=\"unv_36848680\"></span> | <a href=\"hide?id=36848680&amp;goto=news\">hide</a> | <a href=\"item?id=36848680\">284&nbsp;comments</a>        </span>\n",
      "              </td></tr>\n",
      "      <tr class=\"spacer\" style=\"height:5px\"></tr>\n",
      "                <tr class='athing' id='36850111'>\n",
      "      <td align=\"right\" valign=\"top\" class=\"title\"><span class=\"rank\">6.</span></td>      <td valign=\"top\" class=\"votelinks\"><center><a id='up_36850111'href='vote?id=36850111&amp;how=up&amp;goto=news'><div class='votearrow' title='upvote'></div></a></center></td><td class=\"title\"><span class=\"titleline\"><a href=\"https://www.damninteresting.com/the-gimli-glider/\" rel=\"noreferrer\">40 years ago yesterday Air Canada Flight 143 ran out of fuel mid-flight</a><span class=\"sitebit comhead\"> (<a href=\"from?site=damninteresting.com\"><span class=\"sitestr\">damninteresting.com</span></a>)</span></span></td></tr><tr><td colspan=\"2\"></td><td class=\"subtext\"><span class=\"subline\">\n",
      "          <span class=\"score\" id=\"score_36850111\">556 points</span> by <a href=\"user?id=bookofjoe\" class=\"hnuser\">bookofjoe</a> <span class=\"age\" title=\"2023-07-24T16:03:03\"><a href=\"item?id=36850111\">13 hours ago</a></span> <span id=\"unv_36850111\"></span> | <a href=\"hide?id=36850111&amp;goto=news\">hide</a> | <a href=\"item?id=36850111\">226&nbsp;comments</a>        </span>\n",
      "              </td></tr>\n",
      "      <tr class=\"spacer\" style=\"height:5px\"></tr>\n",
      "                <tr class='athing' id='36854061'>\n",
      "      <td align=\"right\" valign=\"top\" class=\"title\"><span class=\"rank\">7.</span></td>      <td valign=\"top\" class=\"votelinks\"><center><a id='up_36854061'href='vote?id=36854061&amp;how=up&amp;goto=news'><div class='votearrow' title='upvote'></div></a></center></td><td class=\"title\"><span class=\"titleline\"><a href=\"https://www.atlasobscura.com/articles/pneumatic-tube-table-phone-flirting-berlin\" rel=\"noreferrer\">People in 1920s Berlin nightclubs flirted via pneumatic tubes</a><span class=\"sitebit comhead\"> (<a href=\"from?site=atlasobscura.com\"><span class=\"sitestr\">atlasobscura.com</span></a>)</span></span></td></tr><tr><td colspan=\"2\"></td><td class=\"subtext\"><span class=\"subline\">\n",
      "          <span class=\"score\" id=\"score_36854061\">195 points</span> by <a href=\"user?id=jakobdabo\" class=\"hnuser\">jakobdabo</a> <span class=\"age\" title=\"2023-07-24T20:54:23\"><a href=\"item?id=36854061\">8 hours ago</a></span> <span id=\"unv_36854061\"></span> | <a href=\"hide?id=36854061&amp;goto=news\">hide</a> | <a href=\"item?id=36854061\">77&nbsp;comments</a>        </span>\n",
      "              </td></tr>\n",
      "      <tr class=\"spacer\" style=\"height:5px\"></tr>\n",
      "                <tr class='athing' id='36852545'>\n",
      "      <td align=\"right\" valign=\"top\" class=\"title\"><span class=\"rank\">8.</span></td>      <td valign=\"top\" class=\"votelinks\"><center><a id='up_36852545'href='vote?id=36852545&amp;how=up&amp;goto=news'><div class='votearrow' title='upvote'></div></a></center></td><td class=\"title\"><span class=\"titleline\"><a href=\"https://bigthink.com/the-past/mongol-archery-secret/\" rel=\"noreferrer\">“Devil’s horsemen”: Why Mongol horse archers were history’s most feared</a><span class=\"sitebit comhead\"> (<a href=\"from?site=bigthink.com\"><span class=\"sitestr\">bigthink.com</span></a>)</span></span></td></tr><tr><td colspan=\"2\"></td><td class=\"subtext\"><span class=\"subline\">\n",
      "          <span class=\"score\" id=\"score_36852545\">12 points</span> by <a href=\"user?id=warrenm\" class=\"hnuser\">warrenm</a> <span class=\"age\" title=\"2023-07-24T18:44:51\"><a href=\"item?id=36852545\">1 hour ago</a></span> <span id=\"unv_36852545\"></span> | <a href=\"hide?id=36852545&amp;goto=news\">hide</a> | <a href=\"item?id=36852545\">1&nbsp;comment</a>        </span>\n",
      "              </td></tr>\n",
      "      <tr class=\"spacer\" style=\"height:5px\"></tr>\n",
      "                <tr class='athing' id='36849502'>\n",
      "      <td align=\"right\" valign=\"top\" class=\"title\"><span class=\"rank\">9.</span></td>      <td valign=\"top\" class=\"votelinks\"><center><a id='up_36849502'href='vote?id=36849502&amp;how=up&amp;goto=news'><div class='votearrow' title='upvote'></div></a></center></td><td class=\"title\"><span class=\"titleline\"><a href=\"https://projectionlab.com/\" rel=\"noreferrer\">Show HN: I spent 2 years building a personal finance simulator</a><span class=\"sitebit comhead\"> (<a href=\"from?site=projectionlab.com\"><span class=\"sitestr\">projectionlab.com</span></a>)</span></span></td></tr><tr><td colspan=\"2\"></td><td class=\"subtext\"><span class=\"subline\">\n",
      "          <span class=\"score\" id=\"score_36849502\">595 points</span> by <a href=\"user?id=scubakid\" class=\"hnuser\">scubakid</a> <span class=\"age\" title=\"2023-07-24T15:25:06\"><a href=\"item?id=36849502\">14 hours ago</a></span> <span id=\"unv_36849502\"></span> | <a href=\"hide?id=36849502&amp;goto=news\">hide</a> | <a href=\"item?id=36849502\">199&nbsp;comments</a>        </span>\n",
      "              </td></tr>\n",
      "      <tr class=\"spacer\" style=\"height:5px\"></tr>\n",
      "                <tr class='athing' id='36852565'>\n",
      "      <td align=\"right\" valign=\"top\" class=\"title\"><span class=\"rank\">10.</span></td>      <td valign=\"top\" class=\"votelinks\"><center><a id='up_36852565'href='vote?id=36852565&amp;how=up&amp;goto=news'><div class='votearrow' title='upvote'></div></a></center></td><td class=\"title\"><span class=\"titleline\"><a href=\"https://andrealeopardi.com/posts/breakdown-of-http-clients-in-elixir/\" rel=\"noreferrer\">A Breakdown of HTTP Clients in Elixir</a><span class=\"sitebit comhead\"> (<a href=\"from?site=andrealeopardi.com\"><span class=\"sitestr\">andrealeopardi.com</span></a>)</span></span></td></tr><tr><td colspan=\"2\"></td><td class=\"subtext\"><span class=\"subline\">\n",
      "          <span class=\"score\" id=\"score_36852565\">29 points</span> by <a href=\"user?id=clessg\" class=\"hnuser\">clessg</a> <span class=\"age\" title=\"2023-07-24T18:45:54\"><a href=\"item?id=36852565\">3 hours ago</a></span> <span id=\"unv_36852565\"></span> | <a href=\"hide?id=36852565&amp;goto=news\">hide</a> | <a href=\"item?id=36852565\">1&nbsp;comment</a>        </span>\n",
      "              </td></tr>\n",
      "      <tr class=\"spacer\" style=\"height:5px\"></tr>\n",
      "                <tr class='athing' id='36857032'>\n",
      "      <td align=\"right\" valign=\"top\" class=\"title\"><span class=\"rank\">11.</span></td>      <td valign=\"top\" class=\"votelinks\"><center><a id='up_36857032'href='vote?id=36857032&amp;how=up&amp;goto=news'><div class='votearrow' title='upvote'></div></a></center></td><td class=\"title\"><span class=\"titleline\"><a href=\"https://github.com/mozilla/standards-positions/issues/852\">Mozilla Standards Positions Opposes Web Integrity API</a><span class=\"sitebit comhead\"> (<a href=\"from?site=github.com/mozilla\"><span class=\"sitestr\">github.com/mozilla</span></a>)</span></span></td></tr><tr><td colspan=\"2\"></td><td class=\"subtext\"><span class=\"subline\">\n",
      "          <span class=\"score\" id=\"score_36857032\">176 points</span> by <a href=\"user?id=danShumway\" class=\"hnuser\">danShumway</a> <span class=\"age\" title=\"2023-07-25T02:14:27\"><a href=\"item?id=36857032\">3 hours ago</a></span> <span id=\"unv_36857032\"></span> | <a href=\"hide?id=36857032&amp;goto=news\">hide</a> | <a href=\"item?id=36857032\">45&nbsp;comments</a>        </span>\n",
      "              </td></tr>\n",
      "      <tr class=\"spacer\" style=\"height:5px\"></tr>\n",
      "                <tr class='athing' id='36855236'>\n",
      "      <td align=\"right\" valign=\"top\" class=\"title\"><span class=\"rank\">12.</span></td>      <td valign=\"top\" class=\"votelinks\"><center><a id='up_36855236'href='vote?id=36855236&amp;how=up&amp;goto=news'><div class='votearrow' title='upvote'></div></a></center></td><td class=\"title\"><span class=\"titleline\"><a href=\"https://pubmed.ncbi.nlm.nih.gov/28388405/\" rel=\"noreferrer\">Cephalopods use RNA editing to modify their nervous sytems</a><span class=\"sitebit comhead\"> (<a href=\"from?site=nih.gov\"><span class=\"sitestr\">nih.gov</span></a>)</span></span></td></tr><tr><td colspan=\"2\"></td><td class=\"subtext\"><span class=\"subline\">\n",
      "          <span class=\"score\" id=\"score_36855236\">76 points</span> by <a href=\"user?id=gerbilly\" class=\"hnuser\">gerbilly</a> <span class=\"age\" title=\"2023-07-24T22:38:39\"><a href=\"item?id=36855236\">6 hours ago</a></span> <span id=\"unv_36855236\"></span> | <a href=\"hide?id=36855236&amp;goto=news\">hide</a> | <a href=\"item?id=36855236\">10&nbsp;comments</a>        </span>\n",
      "              </td></tr>\n",
      "      <tr class=\"spacer\" style=\"height:5px\"></tr>\n",
      "                <tr class='athing' id='36852971'>\n",
      "      <td align=\"right\" valign=\"top\" class=\"title\"><span class=\"rank\">13.</span></td>      <td valign=\"top\" class=\"votelinks\"><center><a id='up_36852971'href='vote?id=36852971&amp;how=up&amp;goto=news'><div class='votearrow' title='upvote'></div></a></center></td><td class=\"title\"><span class=\"titleline\"><a href=\"https://brev.dev/blog/fine-tuning-llama-2\" rel=\"noreferrer\">A simple guide to fine-tuning Llama 2</a><span class=\"sitebit comhead\"> (<a href=\"from?site=brev.dev\"><span class=\"sitestr\">brev.dev</span></a>)</span></span></td></tr><tr><td colspan=\"2\"></td><td class=\"subtext\"><span class=\"subline\">\n",
      "          <span class=\"score\" id=\"score_36852971\">195 points</span> by <a href=\"user?id=samlhuillier\" class=\"hnuser\">samlhuillier</a> <span class=\"age\" title=\"2023-07-24T19:18:26\"><a href=\"item?id=36852971\">10 hours ago</a></span> <span id=\"unv_36852971\"></span> | <a href=\"hide?id=36852971&amp;goto=news\">hide</a> | <a href=\"item?id=36852971\">38&nbsp;comments</a>        </span>\n",
      "              </td></tr>\n",
      "      <tr class=\"spacer\" style=\"height:5px\"></tr>\n",
      "                <tr class='athing' id='36854114'>\n",
      "      <td align=\"right\" valign=\"top\" class=\"title\"><span class=\"rank\">14.</span></td>      <td valign=\"top\" class=\"votelinks\"><center><a id='up_36854114'href='vote?id=36854114&amp;how=up&amp;goto=news'><div class='votearrow' title='upvote'></div></a></center></td><td class=\"title\"><span class=\"titleline\"><a href=\"https://arstechnica.com/gadgets/2023/07/googles-web-integrity-api-sounds-like-drm-for-the-web/\" rel=\"noreferrer\">Google’s nightmare “Web Integrity API” wants a DRM gatekeeper for the web</a><span class=\"sitebit comhead\"> (<a href=\"from?site=arstechnica.com\"><span class=\"sitestr\">arstechnica.com</span></a>)</span></span></td></tr><tr><td colspan=\"2\"></td><td class=\"subtext\"><span class=\"subline\">\n",
      "          <span class=\"score\" id=\"score_36854114\">556 points</span> by <a href=\"user?id=jakobdabo\" class=\"hnuser\">jakobdabo</a> <span class=\"age\" title=\"2023-07-24T20:59:37\"><a href=\"item?id=36854114\">8 hours ago</a></span> <span id=\"unv_36854114\"></span> | <a href=\"hide?id=36854114&amp;goto=news\">hide</a> | <a href=\"item?id=36854114\">256&nbsp;comments</a>        </span>\n",
      "              </td></tr>\n",
      "      <tr class=\"spacer\" style=\"height:5px\"></tr>\n",
      "                <tr class='athing' id='36856564'>\n",
      "      <td align=\"right\" valign=\"top\" class=\"title\"><span class=\"rank\">15.</span></td>      <td valign=\"top\" class=\"votelinks\"><center><a id='up_36856564'href='vote?id=36856564&amp;how=up&amp;goto=news'><div class='votearrow' title='upvote'></div></a></center></td><td class=\"title\"><span class=\"titleline\"><a href=\"https://phys.org/news/2023-07-evidence-year-old-curry-oldest-southeast.html\" rel=\"noreferrer\">Researchers find evidence of a 2000 year old curry, oldest ever found in SE Asia</a><span class=\"sitebit comhead\"> (<a href=\"from?site=phys.org\"><span class=\"sitestr\">phys.org</span></a>)</span></span></td></tr><tr><td colspan=\"2\"></td><td class=\"subtext\"><span class=\"subline\">\n",
      "          <span class=\"score\" id=\"score_36856564\">34 points</span> by <a href=\"user?id=jelliclesfarm\" class=\"hnuser\">jelliclesfarm</a> <span class=\"age\" title=\"2023-07-25T01:17:16\"><a href=\"item?id=36856564\">4 hours ago</a></span> <span id=\"unv_36856564\"></span> | <a href=\"hide?id=36856564&amp;goto=news\">hide</a> | <a href=\"item?id=36856564\">8&nbsp;comments</a>        </span>\n",
      "              </td></tr>\n",
      "      <tr class=\"spacer\" style=\"height:5px\"></tr>\n",
      "                <tr class='athing' id='36847569'>\n",
      "      <td align=\"right\" valign=\"top\" class=\"title\"><span class=\"rank\">16.</span></td>      <td valign=\"top\" class=\"votelinks\"><center><a id='up_36847569'href='vote?id=36847569&amp;how=up&amp;goto=news'><div class='votearrow' title='upvote'></div></a></center></td><td class=\"title\"><span class=\"titleline\"><a href=\"item?id=36847569\">Launch HN: Artie (YC S23) – Real time data replication to data warehouses</a></span></td></tr><tr><td colspan=\"2\"></td><td class=\"subtext\"><span class=\"subline\">\n",
      "          <span class=\"score\" id=\"score_36847569\">95 points</span> by <a href=\"user?id=tang8330\" class=\"hnuser\">tang8330</a> <span class=\"age\" title=\"2023-07-24T13:21:19\"><a href=\"item?id=36847569\">13 hours ago</a></span> <span id=\"unv_36847569\"></span> | <a href=\"hide?id=36847569&amp;goto=news\">hide</a> | <a href=\"item?id=36847569\">40&nbsp;comments</a>        </span>\n",
      "              </td></tr>\n",
      "      <tr class=\"spacer\" style=\"height:5px\"></tr>\n",
      "                <tr class='athing' id='36852231'>\n",
      "      <td align=\"right\" valign=\"top\" class=\"title\"><span class=\"rank\">17.</span></td>      <td valign=\"top\" class=\"votelinks\"><center><a id='up_36852231'href='vote?id=36852231&amp;how=up&amp;goto=news'><div class='votearrow' title='upvote'></div></a></center></td><td class=\"title\"><span class=\"titleline\"><a href=\"https://paraxial.io/blog/still-safe\" rel=\"noreferrer\">Elixir is still safe</a><span class=\"sitebit comhead\"> (<a href=\"from?site=paraxial.io\"><span class=\"sitestr\">paraxial.io</span></a>)</span></span></td></tr><tr><td colspan=\"2\"></td><td class=\"subtext\"><span class=\"subline\">\n",
      "          <span class=\"score\" id=\"score_36852231\">197 points</span> by <a href=\"user?id=manusachi\" class=\"hnuser\">manusachi</a> <span class=\"age\" title=\"2023-07-24T18:22:37\"><a href=\"item?id=36852231\">11 hours ago</a></span> <span id=\"unv_36852231\"></span> | <a href=\"hide?id=36852231&amp;goto=news\">hide</a> | <a href=\"item?id=36852231\">30&nbsp;comments</a>        </span>\n",
      "              </td></tr>\n",
      "      <tr class=\"spacer\" style=\"height:5px\"></tr>\n",
      "                <tr class='athing' id='36856433'>\n",
      "      <td align=\"right\" valign=\"top\" class=\"title\"><span class=\"rank\">18.</span></td>      <td valign=\"top\" class=\"votelinks\"><center><a id='up_36856433'href='vote?id=36856433&amp;how=up&amp;goto=news'><div class='votearrow' title='upvote'></div></a></center></td><td class=\"title\"><span class=\"titleline\"><a href=\"https://themessenger.com/tech/twitters-rebrand-to-x-could-be-a-trademark-nightmare-thanks-to-microsoft\" rel=\"noreferrer\">Twitter’s Rebrand to X Could Be a Trademark Nightmare Thanks to Microsoft</a><span class=\"sitebit comhead\"> (<a href=\"from?site=themessenger.com\"><span class=\"sitestr\">themessenger.com</span></a>)</span></span></td></tr><tr><td colspan=\"2\"></td><td class=\"subtext\"><span class=\"subline\">\n",
      "          <span class=\"score\" id=\"score_36856433\">96 points</span> by <a href=\"user?id=sundaeofshock\" class=\"hnuser\">sundaeofshock</a> <span class=\"age\" title=\"2023-07-25T01:01:56\"><a href=\"item?id=36856433\">4 hours ago</a></span> <span id=\"unv_36856433\"></span> | <a href=\"hide?id=36856433&amp;goto=news\">hide</a> | <a href=\"item?id=36856433\">72&nbsp;comments</a>        </span>\n",
      "              </td></tr>\n",
      "      <tr class=\"spacer\" style=\"height:5px\"></tr>\n",
      "                <tr class='athing' id='36857506'>\n",
      "      <td align=\"right\" valign=\"top\" class=\"title\"><span class=\"rank\">19.</span></td>      <td valign=\"top\" class=\"votelinks\"><center><a id='up_36857506'href='vote?id=36857506&amp;how=up&amp;goto=news'><div class='votearrow' title='upvote'></div></a></center></td><td class=\"title\"><span class=\"titleline\"><a href=\"https://pirg.org/edfund/resources/chromebook-expiration-full-letter/\" rel=\"noreferrer\">Parents, environmentalists to Google: stop Chromebooks from expiring this summer</a><span class=\"sitebit comhead\"> (<a href=\"from?site=pirg.org\"><span class=\"sitestr\">pirg.org</span></a>)</span></span></td></tr><tr><td colspan=\"2\"></td><td class=\"subtext\"><span class=\"subline\">\n",
      "          <span class=\"score\" id=\"score_36857506\">32 points</span> by <a href=\"user?id=redundantly\" class=\"hnuser\">redundantly</a> <span class=\"age\" title=\"2023-07-25T03:27:58\"><a href=\"item?id=36857506\">1 hour ago</a></span> <span id=\"unv_36857506\"></span> | <a href=\"hide?id=36857506&amp;goto=news\">hide</a> | <a href=\"item?id=36857506\">8&nbsp;comments</a>        </span>\n",
      "              </td></tr>\n",
      "      <tr class=\"spacer\" style=\"height:5px\"></tr>\n",
      "                <tr class='athing' id='36851475'>\n",
      "      <td align=\"right\" valign=\"top\" class=\"title\"><span class=\"rank\">20.</span></td>      <td valign=\"top\" class=\"votelinks\"><center><a id='up_36851475'href='vote?id=36851475&amp;how=up&amp;goto=news'><div class='votearrow' title='upvote'></div></a></center></td><td class=\"title\"><span class=\"titleline\"><a href=\"https://github.com/ipankajg/ceed\">Ceed – A tiny x86 compiler with ELF and PE target (2017)</a><span class=\"sitebit comhead\"> (<a href=\"from?site=github.com/ipankajg\"><span class=\"sitestr\">github.com/ipankajg</span></a>)</span></span></td></tr><tr><td colspan=\"2\"></td><td class=\"subtext\"><span class=\"subline\">\n",
      "          <span class=\"score\" id=\"score_36851475\">22 points</span> by <a href=\"user?id=peter_d_sherman\" class=\"hnuser\">peter_d_sherman</a> <span class=\"age\" title=\"2023-07-24T17:31:58\"><a href=\"item?id=36851475\">3 hours ago</a></span> <span id=\"unv_36851475\"></span> | <a href=\"hide?id=36851475&amp;goto=news\">hide</a> | <a href=\"item?id=36851475\">2&nbsp;comments</a>        </span>\n",
      "              </td></tr>\n",
      "      <tr class=\"spacer\" style=\"height:5px\"></tr>\n",
      "                <tr class='athing' id='36855517'>\n",
      "      <td align=\"right\" valign=\"top\" class=\"title\"><span class=\"rank\">21.</span></td>      <td valign=\"top\" class=\"votelinks\"><center><a id='up_36855517'href='vote?id=36855517&amp;how=up&amp;goto=news'><div class='votearrow' title='upvote'></div></a></center></td><td class=\"title\"><span class=\"titleline\"><a href=\"https://vscode.dev/\" rel=\"noreferrer\">Vscode.dev: Local Development with Cloud Tools</a><span class=\"sitebit comhead\"> (<a href=\"from?site=vscode.dev\"><span class=\"sitestr\">vscode.dev</span></a>)</span></span></td></tr><tr><td colspan=\"2\"></td><td class=\"subtext\"><span class=\"subline\">\n",
      "          <span class=\"score\" id=\"score_36855517\">87 points</span> by <a href=\"user?id=nateb2022\" class=\"hnuser\">nateb2022</a> <span class=\"age\" title=\"2023-07-24T23:12:11\"><a href=\"item?id=36855517\">6 hours ago</a></span> <span id=\"unv_36855517\"></span> | <a href=\"hide?id=36855517&amp;goto=news\">hide</a> | <a href=\"item?id=36855517\">65&nbsp;comments</a>        </span>\n",
      "              </td></tr>\n",
      "      <tr class=\"spacer\" style=\"height:5px\"></tr>\n",
      "                <tr class='athing' id='36853206'>\n",
      "      <td align=\"right\" valign=\"top\" class=\"title\"><span class=\"rank\">22.</span></td>      <td valign=\"top\" class=\"votelinks\"><center><a id='up_36853206'href='vote?id=36853206&amp;how=up&amp;goto=news'><div class='votearrow' title='upvote'></div></a></center></td><td class=\"title\"><span class=\"titleline\"><a href=\"http://algorithmicbotany.org/papers/abop/abop.pdf\" rel=\"noreferrer\">The Algorithmic Beauty of Plants [pdf]</a><span class=\"sitebit comhead\"> (<a href=\"from?site=algorithmicbotany.org\"><span class=\"sitestr\">algorithmicbotany.org</span></a>)</span></span></td></tr><tr><td colspan=\"2\"></td><td class=\"subtext\"><span class=\"subline\">\n",
      "          <span class=\"score\" id=\"score_36853206\">67 points</span> by <a href=\"user?id=rg111\" class=\"hnuser\">rg111</a> <span class=\"age\" title=\"2023-07-24T19:39:34\"><a href=\"item?id=36853206\">8 hours ago</a></span> <span id=\"unv_36853206\"></span> | <a href=\"hide?id=36853206&amp;goto=news\">hide</a> | <a href=\"item?id=36853206\">5&nbsp;comments</a>        </span>\n",
      "              </td></tr>\n",
      "      <tr class=\"spacer\" style=\"height:5px\"></tr>\n",
      "                <tr class='athing' id='36855646'>\n",
      "      <td align=\"right\" valign=\"top\" class=\"title\"><span class=\"rank\">23.</span></td>      <td valign=\"top\" class=\"votelinks\"><center><a id='up_36855646'href='vote?id=36855646&amp;how=up&amp;goto=news'><div class='votearrow' title='upvote'></div></a></center></td><td class=\"title\"><span class=\"titleline\"><a href=\"https://www.abc.net.au/news/2023-07-25/byron-bay-data-breach-victim-adidas-nab-us-court-action-damages/102575726\" rel=\"noreferrer\">Byron Bay data breach victim told to pay Adidas, NBA $1.2M by US courts</a><span class=\"sitebit comhead\"> (<a href=\"from?site=abc.net.au\"><span class=\"sitestr\">abc.net.au</span></a>)</span></span></td></tr><tr><td colspan=\"2\"></td><td class=\"subtext\"><span class=\"subline\">\n",
      "          <span class=\"score\" id=\"score_36855646\">141 points</span> by <a href=\"user?id=ColinWright\" class=\"hnuser\">ColinWright</a> <span class=\"age\" title=\"2023-07-24T23:29:51\"><a href=\"item?id=36855646\">5 hours ago</a></span> <span id=\"unv_36855646\"></span> | <a href=\"hide?id=36855646&amp;goto=news\">hide</a> | <a href=\"item?id=36855646\">110&nbsp;comments</a>        </span>\n",
      "              </td></tr>\n",
      "      <tr class=\"spacer\" style=\"height:5px\"></tr>\n",
      "                <tr class='athing' id='36852300'>\n",
      "      <td align=\"right\" valign=\"top\" class=\"title\"><span class=\"rank\">24.</span></td>      <td valign=\"top\" class=\"votelinks\"><center><a id='up_36852300'href='vote?id=36852300&amp;how=up&amp;goto=news'><div class='votearrow' title='upvote'></div></a></center></td><td class=\"title\"><span class=\"titleline\"><a href=\"https://marc.info/?l=openbsd-tech&amp;m=169021508718971&amp;w=2\" rel=\"noreferrer\">OpenBSD on Zenbleed</a><span class=\"sitebit comhead\"> (<a href=\"from?site=marc.info\"><span class=\"sitestr\">marc.info</span></a>)</span></span></td></tr><tr><td colspan=\"2\"></td><td class=\"subtext\"><span class=\"subline\">\n",
      "          <span class=\"score\" id=\"score_36852300\">48 points</span> by <a href=\"user?id=stargrave\" class=\"hnuser\">stargrave</a> <span class=\"age\" title=\"2023-07-24T18:26:42\"><a href=\"item?id=36852300\">6 hours ago</a></span> <span id=\"unv_36852300\"></span> | <a href=\"hide?id=36852300&amp;goto=news\">hide</a> | <a href=\"item?id=36852300\">30&nbsp;comments</a>        </span>\n",
      "              </td></tr>\n",
      "      <tr class=\"spacer\" style=\"height:5px\"></tr>\n",
      "                <tr class='athing' id='36833851'>\n",
      "      <td align=\"right\" valign=\"top\" class=\"title\"><span class=\"rank\">25.</span></td>      <td valign=\"top\" class=\"votelinks\"><center><a id='up_36833851'href='vote?id=36833851&amp;how=up&amp;goto=news'><div class='votearrow' title='upvote'></div></a></center></td><td class=\"title\"><span class=\"titleline\"><a href=\"https://shane.ai/posts/threads-and-goroutines/\" rel=\"noreferrer\">Threads and Goroutines</a><span class=\"sitebit comhead\"> (<a href=\"from?site=shane.ai\"><span class=\"sitestr\">shane.ai</span></a>)</span></span></td></tr><tr><td colspan=\"2\"></td><td class=\"subtext\"><span class=\"subline\">\n",
      "          <span class=\"score\" id=\"score_36833851\">121 points</span> by <a href=\"user?id=mpweiher\" class=\"hnuser\">mpweiher</a> <span class=\"age\" title=\"2023-07-23T09:45:21\"><a href=\"item?id=36833851\">9 hours ago</a></span> <span id=\"unv_36833851\"></span> | <a href=\"hide?id=36833851&amp;goto=news\">hide</a> | <a href=\"item?id=36833851\">18&nbsp;comments</a>        </span>\n",
      "              </td></tr>\n",
      "      <tr class=\"spacer\" style=\"height:5px\"></tr>\n",
      "                <tr class='athing' id='36856428'>\n",
      "      <td align=\"right\" valign=\"top\" class=\"title\"><span class=\"rank\">26.</span></td>      <td valign=\"top\" class=\"votelinks\"><center><a id='up_36856428'href='vote?id=36856428&amp;how=up&amp;goto=news'><div class='votearrow' title='upvote'></div></a></center></td><td class=\"title\"><span class=\"titleline\"><a href=\"https://thomaspark.co/2020/06/the-mad-magazine-fold-in-effect-in-css/\" rel=\"noreferrer\">The Mad Magazine Fold-In Effect in CSS – Thomas Park</a><span class=\"sitebit comhead\"> (<a href=\"from?site=thomaspark.co\"><span class=\"sitestr\">thomaspark.co</span></a>)</span></span></td></tr><tr><td colspan=\"2\"></td><td class=\"subtext\"><span class=\"subline\">\n",
      "          <span class=\"score\" id=\"score_36856428\">17 points</span> by <a href=\"user?id=mikecarlton\" class=\"hnuser\">mikecarlton</a> <span class=\"age\" title=\"2023-07-25T01:01:39\"><a href=\"item?id=36856428\">4 hours ago</a></span> <span id=\"unv_36856428\"></span> | <a href=\"hide?id=36856428&amp;goto=news\">hide</a> | <a href=\"item?id=36856428\">1&nbsp;comment</a>        </span>\n",
      "              </td></tr>\n",
      "      <tr class=\"spacer\" style=\"height:5px\"></tr>\n",
      "                <tr class='athing' id='36851489'>\n",
      "      <td align=\"right\" valign=\"top\" class=\"title\"><span class=\"rank\">27.</span></td>      <td valign=\"top\" class=\"votelinks\"><center><a id='up_36851489'href='vote?id=36851489&amp;how=up&amp;goto=news'><div class='votearrow' title='upvote'></div></a></center></td><td class=\"title\"><span class=\"titleline\"><a href=\"https://app.fishpulse.com/demo\" rel=\"noreferrer\">Show HN: SiteOS – Website platform with CRM, email, and analytics</a><span class=\"sitebit comhead\"> (<a href=\"from?site=fishpulse.com\"><span class=\"sitestr\">fishpulse.com</span></a>)</span></span></td></tr><tr><td colspan=\"2\"></td><td class=\"subtext\"><span class=\"subline\">\n",
      "          <span class=\"score\" id=\"score_36851489\">12 points</span> by <a href=\"user?id=renatodc\" class=\"hnuser\">renatodc</a> <span class=\"age\" title=\"2023-07-24T17:32:53\"><a href=\"item?id=36851489\">2 hours ago</a></span> <span id=\"unv_36851489\"></span> | <a href=\"hide?id=36851489&amp;goto=news\">hide</a> | <a href=\"item?id=36851489\">discuss</a>        </span>\n",
      "              </td></tr>\n",
      "      <tr class=\"spacer\" style=\"height:5px\"></tr>\n",
      "                <tr class='athing' id='36853166'>\n",
      "      <td align=\"right\" valign=\"top\" class=\"title\"><span class=\"rank\">28.</span></td>      <td valign=\"top\" class=\"votelinks\"><center><a id='up_36853166'href='vote?id=36853166&amp;how=up&amp;goto=news'><div class='votearrow' title='upvote'></div></a></center></td><td class=\"title\"><span class=\"titleline\"><a href=\"https://www.intel.com/content/www/us/en/developer/articles/technical/advanced-performance-extensions-apx.html\" rel=\"noreferrer\">Advanced Performance Extensions (APX)</a><span class=\"sitebit comhead\"> (<a href=\"from?site=intel.com\"><span class=\"sitestr\">intel.com</span></a>)</span></span></td></tr><tr><td colspan=\"2\"></td><td class=\"subtext\"><span class=\"subline\">\n",
      "          <span class=\"score\" id=\"score_36853166\">105 points</span> by <a href=\"user?id=gautamcgoel\" class=\"hnuser\">gautamcgoel</a> <span class=\"age\" title=\"2023-07-24T19:35:32\"><a href=\"item?id=36853166\">9 hours ago</a></span> <span id=\"unv_36853166\"></span> | <a href=\"hide?id=36853166&amp;goto=news\">hide</a> | <a href=\"item?id=36853166\">76&nbsp;comments</a>        </span>\n",
      "              </td></tr>\n",
      "      <tr class=\"spacer\" style=\"height:5px\"></tr>\n",
      "                <tr class='athing' id='36853184'>\n",
      "      <td align=\"right\" valign=\"top\" class=\"title\"><span class=\"rank\">29.</span></td>      <td valign=\"top\" class=\"votelinks\"><center><a id='up_36853184'href='vote?id=36853184&amp;how=up&amp;goto=news'><div class='votearrow' title='upvote'></div></a></center></td><td class=\"title\"><span class=\"titleline\"><a href=\"https://dustingetz.electricfiddle.net/electric-fiddle.essay!Essay/electric-y-combinator\" rel=\"noreferrer\">Electric Y Combinator – Electric Clojure</a><span class=\"sitebit comhead\"> (<a href=\"from?site=electricfiddle.net\"><span class=\"sitestr\">electricfiddle.net</span></a>)</span></span></td></tr><tr><td colspan=\"2\"></td><td class=\"subtext\"><span class=\"subline\">\n",
      "          <span class=\"score\" id=\"score_36853184\">79 points</span> by <a href=\"user?id=albertzak\" class=\"hnuser\">albertzak</a> <span class=\"age\" title=\"2023-07-24T19:37:37\"><a href=\"item?id=36853184\">9 hours ago</a></span> <span id=\"unv_36853184\"></span> | <a href=\"hide?id=36853184&amp;goto=news\">hide</a> | <a href=\"item?id=36853184\">17&nbsp;comments</a>        </span>\n",
      "              </td></tr>\n",
      "      <tr class=\"spacer\" style=\"height:5px\"></tr>\n",
      "                <tr class='athing' id='36851054'>\n",
      "      <td align=\"right\" valign=\"top\" class=\"title\"><span class=\"rank\">30.</span></td>      <td><img src=\"s.gif\" height=\"1\" width=\"14\"></td>       <td class=\"title\"><span class=\"titleline\"><a href=\"https://www.workatastartup.com/jobs/61922/\" rel=\"nofollow noreferrer\">Emerge Tools (YC W21) is hiring a senior front end engineer</a><span class=\"sitebit comhead\"> (<a href=\"from?site=workatastartup.com\"><span class=\"sitestr\">workatastartup.com</span></a>)</span></span></td></tr><tr><td colspan=\"2\"></td><td class=\"subtext\">\n",
      "        <span class=\"age\" title=\"2023-07-24T17:01:05\"><a href=\"item?id=36851054\">12 hours ago</a></span> | <a href=\"hide?id=36851054&amp;goto=news\">hide</a>      </td></tr>\n",
      "      <tr class=\"spacer\" style=\"height:5px\"></tr>\n",
      "            <tr class=\"morespace\" style=\"height:10px\"></tr><tr><td colspan=\"2\"></td>\n",
      "      <td class='title'><a href='?p=2' class='morelink' rel='next'>More</a></td>    </tr>\n",
      "  </table>\n",
      "</td></tr>\n",
      "<tr><td><img src=\"s.gif\" height=\"10\" width=\"0\"><table width=\"100%\" cellspacing=\"0\" cellpadding=\"1\"><tr><td bgcolor=\"#ff6600\"></td></tr></table><br>\n",
      "<center><span class=\"yclinks\"><a href=\"newsguidelines.html\">Guidelines</a> | <a href=\"newsfaq.html\">FAQ</a> | <a href=\"lists\">Lists</a> | <a href=\"https://github.com/HackerNews/API\">API</a> | <a href=\"security.html\">Security</a> | <a href=\"https://www.ycombinator.com/legal/\">Legal</a> | <a href=\"https://www.ycombinator.com/apply/\">Apply to YC</a> | <a href=\"mailto:hn@ycombinator.com\">Contact</a></span><br><br>\n",
      "<form method=\"get\" action=\"//hn.algolia.com/\">Search: <input type=\"text\" name=\"q\" size=\"17\" autocorrect=\"off\" spellcheck=\"false\" autocapitalize=\"off\" autocomplete=\"false\"></form></center></td></tr>      </table></center></body>\n",
      "      <script type='text/javascript' src='hn.js?T3QETNg1BzyPiSEKZpB5'></script>\n",
      "  </html>\n",
      "\n"
     ]
    }
   ],
   "source": [
    "yc_web = response.text\n",
    "print(yc_web)"
   ]
  },
  {
   "cell_type": "code",
   "execution_count": 10,
   "id": "bb038616",
   "metadata": {},
   "outputs": [],
   "source": [
    "# creating soup\n",
    "soup = BeautifulSoup(yc_web,'html.parser')\n"
   ]
  },
  {
   "cell_type": "code",
   "execution_count": 11,
   "id": "5129f811",
   "metadata": {},
   "outputs": [
    {
     "name": "stdout",
     "output_type": "stream",
     "text": [
      "Hacker News\n"
     ]
    }
   ],
   "source": [
    "print(soup.title.string)"
   ]
  },
  {
   "cell_type": "markdown",
   "id": "667309fd",
   "metadata": {},
   "source": [
    "Lets get all the title news"
   ]
  },
  {
   "cell_type": "code",
   "execution_count": 25,
   "id": "b3f3ddca",
   "metadata": {},
   "outputs": [
    {
     "name": "stdout",
     "output_type": "stream",
     "text": [
      "[<a href=\"news\">Hacker News</a>, <a href=\"newest\">new</a>, <a href=\"front\">past</a>, <a href=\"newcomments\">comments</a>, <a href=\"ask\">ask</a>, <a href=\"show\">show</a>, <a href=\"jobs\">jobs</a>, <a href=\"submit\">submit</a>, <a href=\"login?goto=news\">login</a>, <a href=\"https://infosec.exchange/@paco/110772422266480371\" rel=\"noreferrer\">Got called to a professor’s office after a complaint his Sparc4 was running slow</a>, <a href=\"from?site=infosec.exchange\"><span class=\"sitestr\">infosec.exchange</span></a>, <a class=\"hnuser\" href=\"user?id=luu\">luu</a>, <a href=\"item?id=36857314\">2 hours ago</a>, <a href=\"hide?id=36857314&amp;goto=news\">hide</a>, <a href=\"item?id=36857314\">15 comments</a>, <a href=\"https://www.evanmiller.org/attention-is-off-by-one.html\" rel=\"noreferrer\">Attention Is Off By One</a>, <a href=\"from?site=evanmiller.org\"><span class=\"sitestr\">evanmiller.org</span></a>, <a class=\"hnuser\" href=\"user?id=elbasti\">elbasti</a>, <a href=\"item?id=36851494\">11 hours ago</a>, <a href=\"hide?id=36851494&amp;goto=news\">hide</a>, <a href=\"item?id=36851494\">254 comments</a>, <a href=\"https://slimemoldtimemold.com/2023/07/24/your-mystery-have-attention-spans-been-declining/\" rel=\"noreferrer\">Have attention spans been declining?</a>, <a href=\"from?site=slimemoldtimemold.com\"><span class=\"sitestr\">slimemoldtimemold.com</span></a>, <a class=\"hnuser\" href=\"user?id=janandonly\">janandonly</a>, <a href=\"item?id=36851644\">11 hours ago</a>, <a href=\"hide?id=36851644&amp;goto=news\">hide</a>, <a href=\"item?id=36851644\">347 comments</a>, <a href=\"https://observablehq.com/@ayhanfuat/the-fall-of-stack-overflow\" rel=\"noreferrer\">The Fall of Stack Overflow</a>, <a href=\"from?site=observablehq.com\"><span class=\"sitestr\">observablehq.com</span></a>, <a class=\"hnuser\" href=\"user?id=ayhanfuat\">ayhanfuat</a>, <a href=\"item?id=36855516\">6 hours ago</a>, <a href=\"hide?id=36855516&amp;goto=news\">hide</a>, <a href=\"item?id=36855516\">175 comments</a>, <a href=\"https://lock.cmpxchg8b.com/zenbleed.html\" rel=\"noreferrer\">Zenbleed</a>, <a href=\"from?site=cmpxchg8b.com\"><span class=\"sitestr\">cmpxchg8b.com</span></a>, <a class=\"hnuser\" href=\"user?id=loeg\">loeg</a>, <a href=\"item?id=36848680\">14 hours ago</a>, <a href=\"hide?id=36848680&amp;goto=news\">hide</a>, <a href=\"item?id=36848680\">284 comments</a>, <a href=\"https://www.damninteresting.com/the-gimli-glider/\" rel=\"noreferrer\">40 years ago yesterday Air Canada Flight 143 ran out of fuel mid-flight</a>, <a href=\"from?site=damninteresting.com\"><span class=\"sitestr\">damninteresting.com</span></a>, <a class=\"hnuser\" href=\"user?id=bookofjoe\">bookofjoe</a>, <a href=\"item?id=36850111\">13 hours ago</a>, <a href=\"hide?id=36850111&amp;goto=news\">hide</a>, <a href=\"item?id=36850111\">226 comments</a>, <a href=\"https://www.atlasobscura.com/articles/pneumatic-tube-table-phone-flirting-berlin\" rel=\"noreferrer\">People in 1920s Berlin nightclubs flirted via pneumatic tubes</a>, <a href=\"from?site=atlasobscura.com\"><span class=\"sitestr\">atlasobscura.com</span></a>, <a class=\"hnuser\" href=\"user?id=jakobdabo\">jakobdabo</a>, <a href=\"item?id=36854061\">8 hours ago</a>, <a href=\"hide?id=36854061&amp;goto=news\">hide</a>, <a href=\"item?id=36854061\">77 comments</a>, <a href=\"https://bigthink.com/the-past/mongol-archery-secret/\" rel=\"noreferrer\">“Devil’s horsemen”: Why Mongol horse archers were history’s most feared</a>, <a href=\"from?site=bigthink.com\"><span class=\"sitestr\">bigthink.com</span></a>, <a class=\"hnuser\" href=\"user?id=warrenm\">warrenm</a>, <a href=\"item?id=36852545\">1 hour ago</a>, <a href=\"hide?id=36852545&amp;goto=news\">hide</a>, <a href=\"item?id=36852545\">1 comment</a>, <a href=\"https://projectionlab.com/\" rel=\"noreferrer\">Show HN: I spent 2 years building a personal finance simulator</a>, <a href=\"from?site=projectionlab.com\"><span class=\"sitestr\">projectionlab.com</span></a>, <a class=\"hnuser\" href=\"user?id=scubakid\">scubakid</a>, <a href=\"item?id=36849502\">14 hours ago</a>, <a href=\"hide?id=36849502&amp;goto=news\">hide</a>, <a href=\"item?id=36849502\">199 comments</a>, <a href=\"https://andrealeopardi.com/posts/breakdown-of-http-clients-in-elixir/\" rel=\"noreferrer\">A Breakdown of HTTP Clients in Elixir</a>, <a href=\"from?site=andrealeopardi.com\"><span class=\"sitestr\">andrealeopardi.com</span></a>, <a class=\"hnuser\" href=\"user?id=clessg\">clessg</a>, <a href=\"item?id=36852565\">3 hours ago</a>, <a href=\"hide?id=36852565&amp;goto=news\">hide</a>, <a href=\"item?id=36852565\">1 comment</a>, <a href=\"https://github.com/mozilla/standards-positions/issues/852\">Mozilla Standards Positions Opposes Web Integrity API</a>, <a href=\"from?site=github.com/mozilla\"><span class=\"sitestr\">github.com/mozilla</span></a>, <a class=\"hnuser\" href=\"user?id=danShumway\">danShumway</a>, <a href=\"item?id=36857032\">3 hours ago</a>, <a href=\"hide?id=36857032&amp;goto=news\">hide</a>, <a href=\"item?id=36857032\">45 comments</a>, <a href=\"https://pubmed.ncbi.nlm.nih.gov/28388405/\" rel=\"noreferrer\">Cephalopods use RNA editing to modify their nervous sytems</a>, <a href=\"from?site=nih.gov\"><span class=\"sitestr\">nih.gov</span></a>, <a class=\"hnuser\" href=\"user?id=gerbilly\">gerbilly</a>, <a href=\"item?id=36855236\">6 hours ago</a>, <a href=\"hide?id=36855236&amp;goto=news\">hide</a>, <a href=\"item?id=36855236\">10 comments</a>, <a href=\"https://brev.dev/blog/fine-tuning-llama-2\" rel=\"noreferrer\">A simple guide to fine-tuning Llama 2</a>, <a href=\"from?site=brev.dev\"><span class=\"sitestr\">brev.dev</span></a>, <a class=\"hnuser\" href=\"user?id=samlhuillier\">samlhuillier</a>, <a href=\"item?id=36852971\">10 hours ago</a>, <a href=\"hide?id=36852971&amp;goto=news\">hide</a>, <a href=\"item?id=36852971\">38 comments</a>, <a href=\"https://arstechnica.com/gadgets/2023/07/googles-web-integrity-api-sounds-like-drm-for-the-web/\" rel=\"noreferrer\">Google’s nightmare “Web Integrity API” wants a DRM gatekeeper for the web</a>, <a href=\"from?site=arstechnica.com\"><span class=\"sitestr\">arstechnica.com</span></a>, <a class=\"hnuser\" href=\"user?id=jakobdabo\">jakobdabo</a>, <a href=\"item?id=36854114\">8 hours ago</a>, <a href=\"hide?id=36854114&amp;goto=news\">hide</a>, <a href=\"item?id=36854114\">256 comments</a>, <a href=\"https://phys.org/news/2023-07-evidence-year-old-curry-oldest-southeast.html\" rel=\"noreferrer\">Researchers find evidence of a 2000 year old curry, oldest ever found in SE Asia</a>, <a href=\"from?site=phys.org\"><span class=\"sitestr\">phys.org</span></a>, <a class=\"hnuser\" href=\"user?id=jelliclesfarm\">jelliclesfarm</a>, <a href=\"item?id=36856564\">4 hours ago</a>, <a href=\"hide?id=36856564&amp;goto=news\">hide</a>, <a href=\"item?id=36856564\">8 comments</a>, <a href=\"item?id=36847569\">Launch HN: Artie (YC S23) – Real time data replication to data warehouses</a>, <a class=\"hnuser\" href=\"user?id=tang8330\">tang8330</a>, <a href=\"item?id=36847569\">13 hours ago</a>, <a href=\"hide?id=36847569&amp;goto=news\">hide</a>, <a href=\"item?id=36847569\">40 comments</a>, <a href=\"https://paraxial.io/blog/still-safe\" rel=\"noreferrer\">Elixir is still safe</a>, <a href=\"from?site=paraxial.io\"><span class=\"sitestr\">paraxial.io</span></a>, <a class=\"hnuser\" href=\"user?id=manusachi\">manusachi</a>, <a href=\"item?id=36852231\">11 hours ago</a>, <a href=\"hide?id=36852231&amp;goto=news\">hide</a>, <a href=\"item?id=36852231\">30 comments</a>, <a href=\"https://themessenger.com/tech/twitters-rebrand-to-x-could-be-a-trademark-nightmare-thanks-to-microsoft\" rel=\"noreferrer\">Twitter’s Rebrand to X Could Be a Trademark Nightmare Thanks to Microsoft</a>, <a href=\"from?site=themessenger.com\"><span class=\"sitestr\">themessenger.com</span></a>, <a class=\"hnuser\" href=\"user?id=sundaeofshock\">sundaeofshock</a>, <a href=\"item?id=36856433\">4 hours ago</a>, <a href=\"hide?id=36856433&amp;goto=news\">hide</a>, <a href=\"item?id=36856433\">72 comments</a>, <a href=\"https://pirg.org/edfund/resources/chromebook-expiration-full-letter/\" rel=\"noreferrer\">Parents, environmentalists to Google: stop Chromebooks from expiring this summer</a>, <a href=\"from?site=pirg.org\"><span class=\"sitestr\">pirg.org</span></a>, <a class=\"hnuser\" href=\"user?id=redundantly\">redundantly</a>, <a href=\"item?id=36857506\">1 hour ago</a>, <a href=\"hide?id=36857506&amp;goto=news\">hide</a>, <a href=\"item?id=36857506\">8 comments</a>, <a href=\"https://github.com/ipankajg/ceed\">Ceed – A tiny x86 compiler with ELF and PE target (2017)</a>, <a href=\"from?site=github.com/ipankajg\"><span class=\"sitestr\">github.com/ipankajg</span></a>, <a class=\"hnuser\" href=\"user?id=peter_d_sherman\">peter_d_sherman</a>, <a href=\"item?id=36851475\">3 hours ago</a>, <a href=\"hide?id=36851475&amp;goto=news\">hide</a>, <a href=\"item?id=36851475\">2 comments</a>, <a href=\"https://vscode.dev/\" rel=\"noreferrer\">Vscode.dev: Local Development with Cloud Tools</a>, <a href=\"from?site=vscode.dev\"><span class=\"sitestr\">vscode.dev</span></a>, <a class=\"hnuser\" href=\"user?id=nateb2022\">nateb2022</a>, <a href=\"item?id=36855517\">6 hours ago</a>, <a href=\"hide?id=36855517&amp;goto=news\">hide</a>, <a href=\"item?id=36855517\">65 comments</a>, <a href=\"http://algorithmicbotany.org/papers/abop/abop.pdf\" rel=\"noreferrer\">The Algorithmic Beauty of Plants [pdf]</a>, <a href=\"from?site=algorithmicbotany.org\"><span class=\"sitestr\">algorithmicbotany.org</span></a>, <a class=\"hnuser\" href=\"user?id=rg111\">rg111</a>, <a href=\"item?id=36853206\">8 hours ago</a>, <a href=\"hide?id=36853206&amp;goto=news\">hide</a>, <a href=\"item?id=36853206\">5 comments</a>, <a href=\"https://www.abc.net.au/news/2023-07-25/byron-bay-data-breach-victim-adidas-nab-us-court-action-damages/102575726\" rel=\"noreferrer\">Byron Bay data breach victim told to pay Adidas, NBA $1.2M by US courts</a>, <a href=\"from?site=abc.net.au\"><span class=\"sitestr\">abc.net.au</span></a>, <a class=\"hnuser\" href=\"user?id=ColinWright\">ColinWright</a>, <a href=\"item?id=36855646\">5 hours ago</a>, <a href=\"hide?id=36855646&amp;goto=news\">hide</a>, <a href=\"item?id=36855646\">110 comments</a>, <a href=\"https://marc.info/?l=openbsd-tech&amp;m=169021508718971&amp;w=2\" rel=\"noreferrer\">OpenBSD on Zenbleed</a>, <a href=\"from?site=marc.info\"><span class=\"sitestr\">marc.info</span></a>, <a class=\"hnuser\" href=\"user?id=stargrave\">stargrave</a>, <a href=\"item?id=36852300\">6 hours ago</a>, <a href=\"hide?id=36852300&amp;goto=news\">hide</a>, <a href=\"item?id=36852300\">30 comments</a>, <a href=\"https://shane.ai/posts/threads-and-goroutines/\" rel=\"noreferrer\">Threads and Goroutines</a>, <a href=\"from?site=shane.ai\"><span class=\"sitestr\">shane.ai</span></a>, <a class=\"hnuser\" href=\"user?id=mpweiher\">mpweiher</a>, <a href=\"item?id=36833851\">9 hours ago</a>, <a href=\"hide?id=36833851&amp;goto=news\">hide</a>, <a href=\"item?id=36833851\">18 comments</a>, <a href=\"https://thomaspark.co/2020/06/the-mad-magazine-fold-in-effect-in-css/\" rel=\"noreferrer\">The Mad Magazine Fold-In Effect in CSS – Thomas Park</a>, <a href=\"from?site=thomaspark.co\"><span class=\"sitestr\">thomaspark.co</span></a>, <a class=\"hnuser\" href=\"user?id=mikecarlton\">mikecarlton</a>, <a href=\"item?id=36856428\">4 hours ago</a>, <a href=\"hide?id=36856428&amp;goto=news\">hide</a>, <a href=\"item?id=36856428\">1 comment</a>, <a href=\"https://app.fishpulse.com/demo\" rel=\"noreferrer\">Show HN: SiteOS – Website platform with CRM, email, and analytics</a>, <a href=\"from?site=fishpulse.com\"><span class=\"sitestr\">fishpulse.com</span></a>, <a class=\"hnuser\" href=\"user?id=renatodc\">renatodc</a>, <a href=\"item?id=36851489\">2 hours ago</a>, <a href=\"hide?id=36851489&amp;goto=news\">hide</a>, <a href=\"item?id=36851489\">discuss</a>, <a href=\"https://www.intel.com/content/www/us/en/developer/articles/technical/advanced-performance-extensions-apx.html\" rel=\"noreferrer\">Advanced Performance Extensions (APX)</a>, <a href=\"from?site=intel.com\"><span class=\"sitestr\">intel.com</span></a>, <a class=\"hnuser\" href=\"user?id=gautamcgoel\">gautamcgoel</a>, <a href=\"item?id=36853166\">9 hours ago</a>, <a href=\"hide?id=36853166&amp;goto=news\">hide</a>, <a href=\"item?id=36853166\">76 comments</a>, <a href=\"https://dustingetz.electricfiddle.net/electric-fiddle.essay!Essay/electric-y-combinator\" rel=\"noreferrer\">Electric Y Combinator – Electric Clojure</a>, <a href=\"from?site=electricfiddle.net\"><span class=\"sitestr\">electricfiddle.net</span></a>, <a class=\"hnuser\" href=\"user?id=albertzak\">albertzak</a>, <a href=\"item?id=36853184\">9 hours ago</a>, <a href=\"hide?id=36853184&amp;goto=news\">hide</a>, <a href=\"item?id=36853184\">17 comments</a>, <a href=\"https://www.workatastartup.com/jobs/61922/\" rel=\"nofollow noreferrer\">Emerge Tools (YC W21) is hiring a senior front end engineer</a>, <a href=\"from?site=workatastartup.com\"><span class=\"sitestr\">workatastartup.com</span></a>, <a href=\"item?id=36851054\">12 hours ago</a>, <a href=\"newsguidelines.html\">Guidelines</a>, <a href=\"newsfaq.html\">FAQ</a>, <a href=\"lists\">Lists</a>, <a href=\"https://github.com/HackerNews/API\">API</a>, <a href=\"security.html\">Security</a>, <a href=\"https://www.ycombinator.com/legal/\">Legal</a>, <a href=\"https://www.ycombinator.com/apply/\">Apply to YC</a>, <a href=\"mailto:hn@ycombinator.com\">Contact</a>]\n"
     ]
    }
   ],
   "source": [
    "top_heading = soup.select(selector='table span a')\n",
    "print(top_heading)"
   ]
  },
  {
   "cell_type": "code",
   "execution_count": 26,
   "id": "0eab9106",
   "metadata": {},
   "outputs": [
    {
     "name": "stdout",
     "output_type": "stream",
     "text": [
      "Hacker News\n",
      "new\n",
      "past\n",
      "comments\n",
      "ask\n",
      "show\n",
      "jobs\n",
      "submit\n",
      "login\n",
      "Got called to a professor’s office after a complaint his Sparc4 was running slow\n",
      "infosec.exchange\n",
      "luu\n",
      "2 hours ago\n",
      "hide\n",
      "15 comments\n",
      "Attention Is Off By One\n",
      "evanmiller.org\n",
      "elbasti\n",
      "11 hours ago\n",
      "hide\n",
      "254 comments\n",
      "Have attention spans been declining?\n",
      "slimemoldtimemold.com\n",
      "janandonly\n",
      "11 hours ago\n",
      "hide\n",
      "347 comments\n",
      "The Fall of Stack Overflow\n",
      "observablehq.com\n",
      "ayhanfuat\n",
      "6 hours ago\n",
      "hide\n",
      "175 comments\n",
      "Zenbleed\n",
      "cmpxchg8b.com\n",
      "loeg\n",
      "14 hours ago\n",
      "hide\n",
      "284 comments\n",
      "40 years ago yesterday Air Canada Flight 143 ran out of fuel mid-flight\n",
      "damninteresting.com\n",
      "bookofjoe\n",
      "13 hours ago\n",
      "hide\n",
      "226 comments\n",
      "People in 1920s Berlin nightclubs flirted via pneumatic tubes\n",
      "atlasobscura.com\n",
      "jakobdabo\n",
      "8 hours ago\n",
      "hide\n",
      "77 comments\n",
      "“Devil’s horsemen”: Why Mongol horse archers were history’s most feared\n",
      "bigthink.com\n",
      "warrenm\n",
      "1 hour ago\n",
      "hide\n",
      "1 comment\n",
      "Show HN: I spent 2 years building a personal finance simulator\n",
      "projectionlab.com\n",
      "scubakid\n",
      "14 hours ago\n",
      "hide\n",
      "199 comments\n",
      "A Breakdown of HTTP Clients in Elixir\n",
      "andrealeopardi.com\n",
      "clessg\n",
      "3 hours ago\n",
      "hide\n",
      "1 comment\n",
      "Mozilla Standards Positions Opposes Web Integrity API\n",
      "github.com/mozilla\n",
      "danShumway\n",
      "3 hours ago\n",
      "hide\n",
      "45 comments\n",
      "Cephalopods use RNA editing to modify their nervous sytems\n",
      "nih.gov\n",
      "gerbilly\n",
      "6 hours ago\n",
      "hide\n",
      "10 comments\n",
      "A simple guide to fine-tuning Llama 2\n",
      "brev.dev\n",
      "samlhuillier\n",
      "10 hours ago\n",
      "hide\n",
      "38 comments\n",
      "Google’s nightmare “Web Integrity API” wants a DRM gatekeeper for the web\n",
      "arstechnica.com\n",
      "jakobdabo\n",
      "8 hours ago\n",
      "hide\n",
      "256 comments\n",
      "Researchers find evidence of a 2000 year old curry, oldest ever found in SE Asia\n",
      "phys.org\n",
      "jelliclesfarm\n",
      "4 hours ago\n",
      "hide\n",
      "8 comments\n",
      "Launch HN: Artie (YC S23) – Real time data replication to data warehouses\n",
      "tang8330\n",
      "13 hours ago\n",
      "hide\n",
      "40 comments\n",
      "Elixir is still safe\n",
      "paraxial.io\n",
      "manusachi\n",
      "11 hours ago\n",
      "hide\n",
      "30 comments\n",
      "Twitter’s Rebrand to X Could Be a Trademark Nightmare Thanks to Microsoft\n",
      "themessenger.com\n",
      "sundaeofshock\n",
      "4 hours ago\n",
      "hide\n",
      "72 comments\n",
      "Parents, environmentalists to Google: stop Chromebooks from expiring this summer\n",
      "pirg.org\n",
      "redundantly\n",
      "1 hour ago\n",
      "hide\n",
      "8 comments\n",
      "Ceed – A tiny x86 compiler with ELF and PE target (2017)\n",
      "github.com/ipankajg\n",
      "peter_d_sherman\n",
      "3 hours ago\n",
      "hide\n",
      "2 comments\n",
      "Vscode.dev: Local Development with Cloud Tools\n",
      "vscode.dev\n",
      "nateb2022\n",
      "6 hours ago\n",
      "hide\n",
      "65 comments\n",
      "The Algorithmic Beauty of Plants [pdf]\n",
      "algorithmicbotany.org\n",
      "rg111\n",
      "8 hours ago\n",
      "hide\n",
      "5 comments\n",
      "Byron Bay data breach victim told to pay Adidas, NBA $1.2M by US courts\n",
      "abc.net.au\n",
      "ColinWright\n",
      "5 hours ago\n",
      "hide\n",
      "110 comments\n",
      "OpenBSD on Zenbleed\n",
      "marc.info\n",
      "stargrave\n",
      "6 hours ago\n",
      "hide\n",
      "30 comments\n",
      "Threads and Goroutines\n",
      "shane.ai\n",
      "mpweiher\n",
      "9 hours ago\n",
      "hide\n",
      "18 comments\n",
      "The Mad Magazine Fold-In Effect in CSS – Thomas Park\n",
      "thomaspark.co\n",
      "mikecarlton\n",
      "4 hours ago\n",
      "hide\n",
      "1 comment\n",
      "Show HN: SiteOS – Website platform with CRM, email, and analytics\n",
      "fishpulse.com\n",
      "renatodc\n",
      "2 hours ago\n",
      "hide\n",
      "discuss\n",
      "Advanced Performance Extensions (APX)\n",
      "intel.com\n",
      "gautamcgoel\n",
      "9 hours ago\n",
      "hide\n",
      "76 comments\n",
      "Electric Y Combinator – Electric Clojure\n",
      "electricfiddle.net\n",
      "albertzak\n",
      "9 hours ago\n",
      "hide\n",
      "17 comments\n",
      "Emerge Tools (YC W21) is hiring a senior front end engineer\n",
      "workatastartup.com\n",
      "12 hours ago\n",
      "Guidelines\n",
      "FAQ\n",
      "Lists\n",
      "API\n",
      "Security\n",
      "Legal\n",
      "Apply to YC\n",
      "Contact\n"
     ]
    }
   ],
   "source": [
    "for tag in top_heading:\n",
    "    print(tag.getText())"
   ]
  },
  {
   "cell_type": "markdown",
   "id": "14dd01b4",
   "metadata": {},
   "source": [
    "This isn't the right answer alternate way"
   ]
  },
  {
   "cell_type": "code",
   "execution_count": 39,
   "id": "beb3c614",
   "metadata": {},
   "outputs": [
    {
     "data": {
      "text/plain": [
       "'Got called to a professor’s office after a complaint his Sparc4 was running slow'"
      ]
     },
     "execution_count": 39,
     "metadata": {},
     "output_type": "execute_result"
    }
   ],
   "source": [
    "heading = soup.find(name ='a',rel = 'noreferrer' )\n",
    "heading.getText()"
   ]
  },
  {
   "cell_type": "code",
   "execution_count": 40,
   "id": "9cf53d9b",
   "metadata": {},
   "outputs": [
    {
     "data": {
      "text/plain": [
       "'https://infosec.exchange/@paco/110772422266480371'"
      ]
     },
     "execution_count": 40,
     "metadata": {},
     "output_type": "execute_result"
    }
   ],
   "source": [
    "heading.get('href')"
   ]
  },
  {
   "cell_type": "code",
   "execution_count": 55,
   "id": "0f57ed0c",
   "metadata": {},
   "outputs": [
    {
     "name": "stdout",
     "output_type": "stream",
     "text": [
      "58 points\n"
     ]
    }
   ],
   "source": [
    "upvote = soup.find(name = 'span',class_ = 'score')\n",
    "print(upvote.getText())"
   ]
  },
  {
   "cell_type": "markdown",
   "id": "f5f84915",
   "metadata": {},
   "source": [
    "###  we can use find all to extract all"
   ]
  },
  {
   "cell_type": "code",
   "execution_count": 47,
   "id": "c6801e87",
   "metadata": {},
   "outputs": [],
   "source": [
    "articles = soup.find_all(name ='a',rel = 'noreferrer' )"
   ]
  },
  {
   "cell_type": "code",
   "execution_count": 50,
   "id": "096f18df",
   "metadata": {},
   "outputs": [
    {
     "name": "stdout",
     "output_type": "stream",
     "text": [
      "1 . Got called to a professor’s office after a complaint his Sparc4 was running slow\n",
      "2 . Attention Is Off By One\n",
      "3 . Have attention spans been declining?\n",
      "4 . The Fall of Stack Overflow\n",
      "5 . Zenbleed\n",
      "6 . 40 years ago yesterday Air Canada Flight 143 ran out of fuel mid-flight\n",
      "7 . People in 1920s Berlin nightclubs flirted via pneumatic tubes\n",
      "8 . “Devil’s horsemen”: Why Mongol horse archers were history’s most feared\n",
      "9 . Show HN: I spent 2 years building a personal finance simulator\n",
      "10 . A Breakdown of HTTP Clients in Elixir\n",
      "11 . Cephalopods use RNA editing to modify their nervous sytems\n",
      "12 . A simple guide to fine-tuning Llama 2\n",
      "13 . Google’s nightmare “Web Integrity API” wants a DRM gatekeeper for the web\n",
      "14 . Researchers find evidence of a 2000 year old curry, oldest ever found in SE Asia\n",
      "15 . Elixir is still safe\n",
      "16 . Twitter’s Rebrand to X Could Be a Trademark Nightmare Thanks to Microsoft\n",
      "17 . Parents, environmentalists to Google: stop Chromebooks from expiring this summer\n",
      "18 . Vscode.dev: Local Development with Cloud Tools\n",
      "19 . The Algorithmic Beauty of Plants [pdf]\n",
      "20 . Byron Bay data breach victim told to pay Adidas, NBA $1.2M by US courts\n",
      "21 . OpenBSD on Zenbleed\n",
      "22 . Threads and Goroutines\n",
      "23 . The Mad Magazine Fold-In Effect in CSS – Thomas Park\n",
      "24 . Show HN: SiteOS – Website platform with CRM, email, and analytics\n",
      "25 . Advanced Performance Extensions (APX)\n",
      "26 . Electric Y Combinator – Electric Clojure\n",
      "27 . Emerge Tools (YC W21) is hiring a senior front end engineer\n"
     ]
    }
   ],
   "source": [
    "for i,tags in enumerate(articles):\n",
    "    print(f'{i+1} . {tags.getText()}')"
   ]
  },
  {
   "cell_type": "code",
   "execution_count": 54,
   "id": "a342fa7c",
   "metadata": {},
   "outputs": [
    {
     "name": "stdout",
     "output_type": "stream",
     "text": [
      "1 . https://www.workatastartup.com/jobs/61922/\n",
      "2 . https://www.workatastartup.com/jobs/61922/\n",
      "3 . https://www.workatastartup.com/jobs/61922/\n",
      "4 . https://www.workatastartup.com/jobs/61922/\n",
      "5 . https://www.workatastartup.com/jobs/61922/\n",
      "6 . https://www.workatastartup.com/jobs/61922/\n",
      "7 . https://www.workatastartup.com/jobs/61922/\n",
      "8 . https://www.workatastartup.com/jobs/61922/\n",
      "9 . https://www.workatastartup.com/jobs/61922/\n",
      "10 . https://www.workatastartup.com/jobs/61922/\n",
      "11 . https://www.workatastartup.com/jobs/61922/\n",
      "12 . https://www.workatastartup.com/jobs/61922/\n",
      "13 . https://www.workatastartup.com/jobs/61922/\n",
      "14 . https://www.workatastartup.com/jobs/61922/\n",
      "15 . https://www.workatastartup.com/jobs/61922/\n",
      "16 . https://www.workatastartup.com/jobs/61922/\n",
      "17 . https://www.workatastartup.com/jobs/61922/\n",
      "18 . https://www.workatastartup.com/jobs/61922/\n",
      "19 . https://www.workatastartup.com/jobs/61922/\n",
      "20 . https://www.workatastartup.com/jobs/61922/\n",
      "21 . https://www.workatastartup.com/jobs/61922/\n",
      "22 . https://www.workatastartup.com/jobs/61922/\n",
      "23 . https://www.workatastartup.com/jobs/61922/\n",
      "24 . https://www.workatastartup.com/jobs/61922/\n",
      "25 . https://www.workatastartup.com/jobs/61922/\n",
      "26 . https://www.workatastartup.com/jobs/61922/\n",
      "27 . https://www.workatastartup.com/jobs/61922/\n"
     ]
    }
   ],
   "source": [
    "# all links\n",
    "for i, tag in enumerate(articles):\n",
    "    print(f'{i+1} . {tags.get(\"href\")}')"
   ]
  },
  {
   "cell_type": "code",
   "execution_count": 56,
   "id": "9e1261c5",
   "metadata": {},
   "outputs": [
    {
     "name": "stdout",
     "output_type": "stream",
     "text": [
      "[<span class=\"score\" id=\"score_36857314\">58 points</span>, <span class=\"score\" id=\"score_36851494\">746 points</span>, <span class=\"score\" id=\"score_36851644\">494 points</span>, <span class=\"score\" id=\"score_36855516\">153 points</span>, <span class=\"score\" id=\"score_36848680\">955 points</span>, <span class=\"score\" id=\"score_36850111\">556 points</span>, <span class=\"score\" id=\"score_36854061\">195 points</span>, <span class=\"score\" id=\"score_36852545\">12 points</span>, <span class=\"score\" id=\"score_36849502\">595 points</span>, <span class=\"score\" id=\"score_36852565\">29 points</span>, <span class=\"score\" id=\"score_36857032\">176 points</span>, <span class=\"score\" id=\"score_36855236\">76 points</span>, <span class=\"score\" id=\"score_36852971\">195 points</span>, <span class=\"score\" id=\"score_36854114\">556 points</span>, <span class=\"score\" id=\"score_36856564\">34 points</span>, <span class=\"score\" id=\"score_36847569\">95 points</span>, <span class=\"score\" id=\"score_36852231\">197 points</span>, <span class=\"score\" id=\"score_36856433\">96 points</span>, <span class=\"score\" id=\"score_36857506\">32 points</span>, <span class=\"score\" id=\"score_36851475\">22 points</span>, <span class=\"score\" id=\"score_36855517\">87 points</span>, <span class=\"score\" id=\"score_36853206\">67 points</span>, <span class=\"score\" id=\"score_36855646\">141 points</span>, <span class=\"score\" id=\"score_36852300\">48 points</span>, <span class=\"score\" id=\"score_36833851\">121 points</span>, <span class=\"score\" id=\"score_36856428\">17 points</span>, <span class=\"score\" id=\"score_36851489\">12 points</span>, <span class=\"score\" id=\"score_36853166\">105 points</span>, <span class=\"score\" id=\"score_36853184\">79 points</span>]\n"
     ]
    }
   ],
   "source": [
    "# getting all upvotes\n",
    "upvotes = soup.find_all(name = 'span',class_ = 'score')\n",
    "print(upvotes)"
   ]
  },
  {
   "cell_type": "code",
   "execution_count": 58,
   "id": "04d55bc7",
   "metadata": {},
   "outputs": [
    {
     "name": "stdout",
     "output_type": "stream",
     "text": [
      "1 . 58 points\n",
      "2 . 746 points\n",
      "3 . 494 points\n",
      "4 . 153 points\n",
      "5 . 955 points\n",
      "6 . 556 points\n",
      "7 . 195 points\n",
      "8 . 12 points\n",
      "9 . 595 points\n",
      "10 . 29 points\n",
      "11 . 176 points\n",
      "12 . 76 points\n",
      "13 . 195 points\n",
      "14 . 556 points\n",
      "15 . 34 points\n",
      "16 . 95 points\n",
      "17 . 197 points\n",
      "18 . 96 points\n",
      "19 . 32 points\n",
      "20 . 22 points\n",
      "21 . 87 points\n",
      "22 . 67 points\n",
      "23 . 141 points\n",
      "24 . 48 points\n",
      "25 . 121 points\n",
      "26 . 17 points\n",
      "27 . 12 points\n",
      "28 . 105 points\n",
      "29 . 79 points\n"
     ]
    }
   ],
   "source": [
    "upvote_bank = list()\n",
    "for i,vote in enumerate(upvotes):\n",
    "    upvote_bank.append(int(vote.getText()[:-6]))\n",
    "    print(f'{i+1} . {vote.getText()}')"
   ]
  },
  {
   "cell_type": "code",
   "execution_count": 61,
   "id": "49e0cefb",
   "metadata": {},
   "outputs": [
    {
     "data": {
      "text/plain": [
       "[58,\n",
       " 746,\n",
       " 494,\n",
       " 153,\n",
       " 955,\n",
       " 556,\n",
       " 195,\n",
       " 12,\n",
       " 595,\n",
       " 29,\n",
       " 176,\n",
       " 76,\n",
       " 195,\n",
       " 556,\n",
       " 34,\n",
       " 95,\n",
       " 197,\n",
       " 96,\n",
       " 32,\n",
       " 22,\n",
       " 87,\n",
       " 67,\n",
       " 141,\n",
       " 48,\n",
       " 121,\n",
       " 17,\n",
       " 12,\n",
       " 105,\n",
       " 79]"
      ]
     },
     "execution_count": 61,
     "metadata": {},
     "output_type": "execute_result"
    }
   ],
   "source": [
    "upvote_bank"
   ]
  },
  {
   "cell_type": "code",
   "execution_count": 62,
   "id": "fce8cfc5",
   "metadata": {},
   "outputs": [],
   "source": [
    "import numpy as np\n",
    "np_upvote_bank  = np.array(upvote_bank)"
   ]
  },
  {
   "cell_type": "code",
   "execution_count": 63,
   "id": "f950c507",
   "metadata": {},
   "outputs": [
    {
     "data": {
      "text/plain": [
       "955"
      ]
     },
     "execution_count": 63,
     "metadata": {},
     "output_type": "execute_result"
    }
   ],
   "source": [
    "np_upvote_bank.max()"
   ]
  },
  {
   "cell_type": "code",
   "execution_count": 64,
   "id": "8e35e7c8",
   "metadata": {},
   "outputs": [
    {
     "data": {
      "text/plain": [
       "12"
      ]
     },
     "execution_count": 64,
     "metadata": {},
     "output_type": "execute_result"
    }
   ],
   "source": [
    "np_upvote_bank.min()"
   ]
  },
  {
   "cell_type": "code",
   "execution_count": 65,
   "id": "061be89d",
   "metadata": {},
   "outputs": [
    {
     "data": {
      "text/plain": [
       "7"
      ]
     },
     "execution_count": 65,
     "metadata": {},
     "output_type": "execute_result"
    }
   ],
   "source": [
    "np_upvote_bank.argmin() #gave the index of minimus"
   ]
  },
  {
   "cell_type": "code",
   "execution_count": 66,
   "id": "d75f5449",
   "metadata": {},
   "outputs": [
    {
     "data": {
      "text/plain": [
       "4"
      ]
     },
     "execution_count": 66,
     "metadata": {},
     "output_type": "execute_result"
    }
   ],
   "source": [
    "np_upvote_bank.argmax()"
   ]
  },
  {
   "cell_type": "markdown",
   "id": "7ee3805e",
   "metadata": {},
   "source": [
    "**Function to get max and minimum voted title**"
   ]
  },
  {
   "cell_type": "code",
   "execution_count": 78,
   "id": "f5fc9997",
   "metadata": {},
   "outputs": [],
   "source": [
    "import math\n",
    "def title_max_min_votes(soup):\n",
    "    titles_head = soup.find_all(name ='a',rel = 'noreferrer' )\n",
    "    titles_vote = soup.find_all(name = 'span',class_='score')\n",
    "    list_head = [t.getText() for t in titles_head]\n",
    "    list_vote = [int(v.getText()[:-6]) for v in titles_vote]\n",
    "    x = min(list_vote)\n",
    "    y = max(list_vote)\n",
    "    title_n_vote = dict(zip(list_vote,list_head))\n",
    "    print(f'least number of upvotes to the title are \"{title_n_vote[x]}\" with votes {x}')\n",
    "    print(f'max number of upvotes to the title are \"{title_n_vote[y]}\" with votes {y}')"
   ]
  },
  {
   "cell_type": "code",
   "execution_count": 79,
   "id": "410718a5",
   "metadata": {},
   "outputs": [
    {
     "name": "stdout",
     "output_type": "stream",
     "text": [
      "least number of upvotes to the title are \"Emerge Tools (YC W21) is hiring a senior front end engineer\" with votes 12\n",
      "max number of upvotes to the title are \"Zenbleed\" with votes 955\n"
     ]
    }
   ],
   "source": [
    "title_max_min_votes(soup)"
   ]
  },
  {
   "cell_type": "code",
   "execution_count": null,
   "id": "c8361822",
   "metadata": {},
   "outputs": [],
   "source": []
  }
 ],
 "metadata": {
  "kernelspec": {
   "display_name": "Python 3 (ipykernel)",
   "language": "python",
   "name": "python3"
  },
  "language_info": {
   "codemirror_mode": {
    "name": "ipython",
    "version": 3
   },
   "file_extension": ".py",
   "mimetype": "text/x-python",
   "name": "python",
   "nbconvert_exporter": "python",
   "pygments_lexer": "ipython3",
   "version": "3.11.3"
  }
 },
 "nbformat": 4,
 "nbformat_minor": 5
}
