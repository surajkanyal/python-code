{
 "cells": [
  {
   "cell_type": "markdown",
   "id": "51c6a472",
   "metadata": {},
   "source": [
    "# Scraping a website of 100 greatest movies"
   ]
  },
  {
   "cell_type": "code",
   "execution_count": 7,
   "id": "66545adc",
   "metadata": {},
   "outputs": [],
   "source": [
    "# importing file\n",
    "from bs4 import BeautifulSoup \n",
    "import requests"
   ]
  },
  {
   "cell_type": "code",
   "execution_count": 6,
   "id": "486ffeda",
   "metadata": {},
   "outputs": [
    {
     "name": "stdout",
     "output_type": "stream",
     "text": [
      "<Response [200]>\n"
     ]
    }
   ],
   "source": [
    "#Checking response from the scraping site\n",
    "\n",
    "response = requests.get('https://www.empireonline.com/movies/features/best-movies-2/')\n",
    "print(response)\n",
    "# print(response.text)"
   ]
  },
  {
   "cell_type": "code",
   "execution_count": 8,
   "id": "f89627be",
   "metadata": {},
   "outputs": [
    {
     "name": "stdout",
     "output_type": "stream",
     "text": [
      "The 100 Best Movies Of All Time | Movies | Empire \n"
     ]
    }
   ],
   "source": [
    "# Creating the object\n",
    "soup = BeautifulSoup(response.text,'html.parser')\n",
    "\n",
    "#lets check title\n",
    "print(soup.title.string)"
   ]
  },
  {
   "cell_type": "markdown",
   "id": "1f56b5f8",
   "metadata": {},
   "source": [
    "Aim we have to achieve\n",
    "1. Get all of the top 100 movies list\n",
    "2. give the description if they ask for\n",
    "3. give the image if they ask for"
   ]
  },
  {
   "cell_type": "code",
   "execution_count": 25,
   "id": "e26bd1b1",
   "metadata": {},
   "outputs": [],
   "source": [
    "# 1st getting all movies names\n",
    "movies = soup.find_all(name = 'h3',class_ = 'jsx-1913936986')\n",
    "movies_label = [m.getText() for m in movies]"
   ]
  },
  {
   "cell_type": "code",
   "execution_count": 26,
   "id": "f2b2f6c9",
   "metadata": {},
   "outputs": [
    {
     "data": {
      "text/plain": [
       "['100) Reservoir Dogs']"
      ]
     },
     "execution_count": 26,
     "metadata": {},
     "output_type": "execute_result"
    }
   ],
   "source": [
    "movies_label"
   ]
  },
  {
   "cell_type": "code",
   "execution_count": 31,
   "id": "56f2465c",
   "metadata": {},
   "outputs": [
    {
     "name": "stdout",
     "output_type": "stream",
     "text": [
      "<div class=\"jsx-3523802742 listicle-item\" data-test=\"listicle-item-5\">\n",
      " <div class=\"jsx-1913936986 listicle-item-image\">\n",
      "  <div class=\"jsx-3628565330 image-container\">\n",
      "   <div class=\"jsx-1901279781 image-loading\">\n",
      "   </div>\n",
      "   <div class=\"lazyLoad\">\n",
      "    <picture class=\"jsx-2590794431\">\n",
      "     <source class=\"jsx-2590794431\" media=\"(min-width:480px)\" srcset=\"\"/>\n",
      "     <img alt=\"Donnie Darko\" class=\"jsx-2590794431 loading\" data-src=\"//images.bauerhosting.com/legacy/media/619d/5c11/dbee/afc5/5968/fda3/IMG_0297.jpeg?q=80&amp;auto=format&amp;w=500\" src=\"\" title=\"\"/>\n",
      "    </picture>\n",
      "   </div>\n",
      "  </div>\n",
      "  <span class=\"jsx-1913936986 listicle-item-count\">\n",
      "   6\n",
      "   <!-- -->\n",
      "   of\n",
      "   <!-- -->\n",
      "   100\n",
      "  </span>\n",
      " </div>\n",
      " <div class=\"jsx-1913936986 listicle-item-content\">\n",
      "  <p>\n",
      "   <a href=\"https://www.empireonline.com/people/richard-kelly/\" rel=\"noopener\" target=\"_blank\">\n",
      "    Richard Kelly\n",
      "   </a>\n",
      "   's time-looping, sci-fi-horror-blending high-school movie is the very definition of a cult classic. It was a struggle to get made, it flopped on release, then found its crowd via word-of-mouth and a palpable sense that its creator really, you know, gets it. And let's not forget how goddamn funny it is, too.\n",
      "  </p>\n",
      "  <p>\n",
      "   <a href=\"https://www.empireonline.com/movies/reviews/donnie-darko-review/\" rel=\"noopener\" target=\"_blank\">\n",
      "    Read Empire's review of Donnie Darko\n",
      "   </a>\n",
      "  </p>\n",
      " </div>\n",
      " <div class=\"jsx-1913936986 bottom\">\n",
      "  <div class=\"jsx-1913936986 price-brand\">\n",
      "   <div class=\"jsx-1913936986 price-content\">\n",
      "   </div>\n",
      "   <div class=\"jsx-4290002108 brand\">\n",
      "    <img alt=\"Amazon\" class=\"jsx-4290002108 amazon-no-prime\" src=\"data:image/png;base64,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\"/>\n",
      "   </div>\n",
      "  </div>\n",
      " </div>\n",
      "</div>\n",
      "\n"
     ]
    }
   ],
   "source": [
    "\n",
    "a = soup.find('div',attrs={'data-test':\"listicle-item-5\"})\n",
    "# name = a.find('h3', attrs={'class':'jsx-1913936986'}) \n",
    "print(a.prettify())\n"
   ]
  },
  {
   "cell_type": "markdown",
   "id": "38f9a5b1",
   "metadata": {},
   "source": [
    "**I don't know why some headings are isn't showing up in scrapped data**\n",
    "**Show check this work later**"
   ]
  },
  {
   "cell_type": "code",
   "execution_count": null,
   "id": "87401a9b",
   "metadata": {},
   "outputs": [],
   "source": []
  }
 ],
 "metadata": {
  "kernelspec": {
   "display_name": "Python 3 (ipykernel)",
   "language": "python",
   "name": "python3"
  },
  "language_info": {
   "codemirror_mode": {
    "name": "ipython",
    "version": 3
   },
   "file_extension": ".py",
   "mimetype": "text/x-python",
   "name": "python",
   "nbconvert_exporter": "python",
   "pygments_lexer": "ipython3",
   "version": "3.11.3"
  }
 },
 "nbformat": 4,
 "nbformat_minor": 5
}
