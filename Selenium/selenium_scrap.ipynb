{
 "cells": [
  {
   "cell_type": "code",
   "execution_count": 2,
   "id": "a009120f",
   "metadata": {},
   "outputs": [],
   "source": [
    "#importing drivers\n",
    "from selenium import webdriver\n",
    "from selenium.webdriver.common.by import By\n",
    "from selenium.webdriver.chrome.service import Service\n",
    "from selenium.webdriver import Keys, ActionChains"
   ]
  },
  {
   "cell_type": "code",
   "execution_count": 3,
   "id": "5c77fee6",
   "metadata": {},
   "outputs": [],
   "source": [
    "service = Service(executable_path='/home/suraj/Desktop/python/Selenium/chromedriver.exe')"
   ]
  },
  {
   "cell_type": "markdown",
   "id": "179f41a4",
   "metadata": {},
   "source": [
    "We can use chromeoption as it provides various options for now go simple\n",
    "\n",
    "options = webdriver.ChromeOptions()\n",
    "\n",
    "driver = webdriver.Chrome(service=service, options=options) \n"
   ]
  },
  {
   "cell_type": "code",
   "execution_count": 6,
   "id": "75bc6e8b",
   "metadata": {},
   "outputs": [],
   "source": [
    "driver = webdriver.Chrome(service = service)\n",
    "driver.get('https://www.amazon.com')\n",
    "driver.close()"
   ]
  },
  {
   "cell_type": "markdown",
   "id": "6146d0f7",
   "metadata": {},
   "source": [
    "well it closes automatically but\n",
    "we can close tabs using\n",
    "\n",
    "driver.close()\n",
    "\n",
    "driver.quit() #  will quit webdriver and close all associated browser windows "
   ]
  },
  {
   "cell_type": "code",
   "execution_count": 15,
   "id": "62968059",
   "metadata": {},
   "outputs": [
    {
     "name": "stdout",
     "output_type": "stream",
     "text": [
      "3,899\n"
     ]
    }
   ],
   "source": [
    "#now lets see how exactly we can scrap the data\n",
    "driver = webdriver.Chrome(service = service)\n",
    "driver.get('https://www.amazon.in/Crucial-Plus-500GB-PCIe-5000MB/dp/B0B25NTRGD/ref=pd_ci_mcx_mh_mcx_views_1?pd_rd_w=qdGza&content-id=amzn1.sym.cd312cd6-6969-4220-8ac7-6dc7c0447352%3Aamzn1.symc.ca948091-a64d-450e-86d7-c161ca33337b&pf_rd_p=cd312cd6-6969-4220-8ac7-6dc7c0447352&pf_rd_r=E2CHH7DW9GTJCT35BHH3&pd_rd_wg=cNPb1&pd_rd_r=fdc2abf4-d2b3-4ea3-a760-475beed2dab1&pd_rd_i=B0B25NTRGD&th=1')\n",
    "\n",
    "price = driver.find_element(By.CLASS_NAME, \"a-price-whole\")\n",
    "print(price.text)\n",
    "\n",
    "driver.quit()"
   ]
  },
  {
   "cell_type": "markdown",
   "id": "41be82de",
   "metadata": {},
   "source": [
    "### Traditional Locators\n",
    "Selenium provides support for these 8 traditional location strategies in WebDriver: \\\n",
    "\n",
    "Locator\tDescription \\\n",
    "\n",
    "class name -Locates elements whose class name contains the search value (compound class names are not permitted) \\\n",
    "  \n",
    "      driver = webdriver.Chrome()\n",
    "      driver.find_element(By.CLASS_NAME, \"information\")\n",
    "  \n",
    "CSS selector-\tLocates elements matching a CSS selector  \\\n",
    "CSS is the language used to style HTML pages. We can use css selector locator strategy to identify the element on the page. If the element has an id, we create the locator as css = #id. Otherwise the format we follow is css =[attribute=value] . Let us see an example from above HTML snippet. We will create locator for First Name textbox, using css.\n",
    "\n",
    "    driver = webdriver.Chrome()\n",
    "\tdriver.find_element(By.CSS_SELECTOR, \"#fname\")\n",
    "  \n",
    "id\tLocates- elements whose ID attribute matches the search value \\\n",
    "  \n",
    "    driver = webdriver.Chrome()\n",
    "\tdriver.find_element(By.ID, \"lname\")\n",
    "  \n",
    "  \n",
    "name-\tLocates elements whose NAME attribute matches the search value \\\n",
    "\n",
    "     driver = webdriver.Chrome()\n",
    "\t driver.find_element(By.NAME, \"newsletter\")  \n",
    "  \n",
    "link text\t-Locates anchor elements whose visible text matches the search value \\\n",
    "\n",
    "    driver = webdriver.Chrome()\n",
    "\tdriver.find_element(By.LINK_TEXT, \"Selenium Official Page\")\n",
    "    \n",
    "partial link text\t-Locates anchor elements whose visible text contains the search value. If multiple elements are matching, only the first one will be selected. \\ \n",
    "\n",
    "    driver = webdriver.Chrome()\n",
    "\tdriver.find_element(By.PARTIAL_LINK_TEXT, \"Official Page\")\n",
    "  \n",
    "tag name-\tLocates elements whose tag name matches the search value \\\n",
    "\n",
    "    driver = webdriver.Chrome()\n",
    "\tdriver.find_element(By.TAG_NAME, \"a\")\n",
    "  \n",
    "xpath\t-Locates elements matching an XPath expression \\\n",
    "\n",
    "    driver = webdriver.Chrome()\n",
    "\tdriver.find_element(By.XPATH, \"//input[@value='f']\")\n",
    "  \n"
   ]
  },
  {
   "cell_type": "markdown",
   "id": "0c3f3b6d",
   "metadata": {},
   "source": [
    "### Interacting elements\n",
    "There are only 5 basic commands that can be executed on an element:\n",
    "\n",
    "click (applies to any element)\n",
    "    \n",
    "    # Navigate to url\n",
    "\tdriver.get(\"https://www.selenium.dev/selenium/web/inputs.html\")\n",
    "\n",
    "    # Click on the element \n",
    "\tdriver.find_element(By.NAME, \"color_input\").click()\n",
    "  \n",
    "send keys (only applies to text fields and content editable elements)\n",
    "\n",
    "    # Navigate to url\n",
    "\tdriver.get(\"https://www.selenium.dev/selenium/web/inputs.html\")\n",
    "\n",
    "    # Clear field to empty it from any previous data\n",
    "\tdriver.find_element(By.NAME, \"email_input\").clear()\n",
    "\n",
    "\t# Enter Text\n",
    "\tdriver.find_element(By.NAME, \"email_input\").send_keys(\"admin@localhost.dev\" )\n",
    "\n",
    "  \n",
    "clear (only applies to text fields and content editable elements)\n",
    "\n",
    "submit (only applies to form elements)\n",
    "select (see Select List Elements)\n"
   ]
  },
  {
   "cell_type": "markdown",
   "id": "5fe354fd",
   "metadata": {},
   "source": [
    "### Information\n",
    "**Is Displayed** \\\n",
    "This method is used to check if the connected Element is displayed on a webpage. Returns a Boolean value, True if the connected element is displayed in the current browsing context else returns false\n",
    "\n",
    "    #Navigate to the url\n",
    "    driver.get(\"https://www.selenium.dev/selenium/web/inputs.html\")\n",
    "\n",
    "    #Get boolean value for is element display\n",
    "    is_email_visible = driver.find_element(By.NAME, \"email_input\").is_displayed()\n",
    "    \n",
    "**Is Enabled**\n",
    "\n",
    "  \n",
    "**Is Selected** \\\n",
    "This method determines if the referenced Element is Selected or not. This method is widely used on Check boxes, radio buttons, input elements, and option elements.\n",
    "\n",
    "Returns a boolean value, True if referenced element is selected in the current browsing context else returns false.\n",
    "\n",
    "\n",
    "    # Navigate to url\n",
    "    driver.get(\"https://www.selenium.dev/selenium/web/inputs.html\")\n",
    "\n",
    "    # Returns true if element is checked else returns false\n",
    "    value = driver.find_element(By.NAME, \"checkbox_input\").is_selected()\n",
    "  \n",
    "**Tag Name** \\\n",
    "It is used to fetch the TagName of the referenced Element which has the focus in the current browsing context.\n",
    "\n",
    "    # Navigate to url\n",
    "    driver.get(\"https://www.selenium.dev/selenium/web/inputs.html\")\n",
    "\n",
    "    # Returns TagName of the element\n",
    "    attr = driver.find_element(By.NAME, \"email_input\").tag_name\n",
    "  \n",
    "**Size and Position** \\\n",
    "It is used to fetch the dimensions and coordinates of the referenced element.\n",
    "\n",
    "The fetched data body contain the following details:\n",
    "\n",
    "X-axis position from the top-left corner of the element \\\n",
    "y-axis position from the top-left corner of the element \\\n",
    "Height of the element \\\n",
    "Width of the element \\\n",
    "\n",
    "    # Navigate to url\n",
    "driver.get(\"https://www.selenium.dev/selenium/web/inputs.html\")\n",
    "\n",
    "    # Returns height, width, x and y coordinates referenced element\n",
    "res = driver.find_element(By.NAME, \"range_input\").rect\n",
    "  \n",
    "**Get CSS Value**\n",
    "Retrieves the value of specified computed style property of an element in the current browsing context.\n",
    "\n",
    "    #Navigate to Url\n",
    "    driver.get('https://www.selenium.dev/selenium/web/colorPage.html')\n",
    "\n",
    "    # Retrieves the computed style property 'color' of linktext\n",
    "    cssValue = driver.find_element(By.ID, \"namedColor\").value_of_css_property('background-color')\n",
    "\n",
    "  \n",
    "**Text Content** \\\n",
    "Retrieves the rendered text of the specified element.\n",
    "\n",
    "    # Navigate to url\n",
    "    driver.get(\"https://www.selenium.dev/selenium/web/linked_image.html\")\n",
    "\n",
    "    # Retrieves the text of the element\n",
    "    text = driver.find_element(By.ID, \"justanotherlink\").text\n",
    "  \n",
    "**Fetching Attributes or Properties** \\\n",
    "Fetches the run time value associated with a DOM attribute. It returns the data associated with the DOM attribute or property of the element.\n",
    "\n",
    "\n",
    "    #Navigate to the url\n",
    "    driver.get(\"https://www.selenium.dev/selenium/web/inputs.html\")\n",
    "\n",
    "    # Identify the email text box\n",
    "    email_txt = driver.find_element(By.NAME, \"email_input\")\n",
    "\n",
    "    # Fetch the value property associated with the textbox\n",
    "    value_info = email_txt.get_attribute(\"value\")\n",
    "  "
   ]
  },
  {
   "cell_type": "code",
   "execution_count": 17,
   "id": "add22abc",
   "metadata": {},
   "outputs": [
    {
     "name": "stdout",
     "output_type": "stream",
     "text": [
      "Crucial P3 Plus 500GB PCIe 4.0 3D NAND NVMe M.2 SSD, up to 5000MB/s - CT500P3PSSD8\n",
      "3,899\n"
     ]
    }
   ],
   "source": [
    "# getting product name\n",
    "driver = webdriver.Chrome(service = service)\n",
    "driver.get('https://www.amazon.in/Crucial-Plus-500GB-PCIe-5000MB/dp/B0B25NTRGD/ref=pd_ci_mcx_mh_mcx_views_1?pd_rd_w=qdGza&content-id=amzn1.sym.cd312cd6-6969-4220-8ac7-6dc7c0447352%3Aamzn1.symc.ca948091-a64d-450e-86d7-c161ca33337b&pf_rd_p=cd312cd6-6969-4220-8ac7-6dc7c0447352&pf_rd_r=E2CHH7DW9GTJCT35BHH3&pd_rd_wg=cNPb1&pd_rd_r=fdc2abf4-d2b3-4ea3-a760-475beed2dab1&pd_rd_i=B0B25NTRGD&th=1')\n",
    "\n",
    "product = driver.find_element(By.ID,'productTitle').text\n",
    "print(product)\n",
    "price = driver.find_element(By.CLASS_NAME, \"a-price-whole\")\n",
    "print(price.text)\n",
    "\n",
    "driver.quit()"
   ]
  },
  {
   "cell_type": "code",
   "execution_count": 22,
   "id": "481e773f",
   "metadata": {},
   "outputs": [
    {
     "name": "stdout",
     "output_type": "stream",
     "text": [
      "Crucial P3 Plus 500GB PCIe 4.0 3D NAND NVMe M.2 SSD, up to 5000MB/s - CT500P3PSSD8\n",
      "3,547\n",
      "Sold by Appario Retail Private Ltd and Fulfilled by Amazon . \n"
     ]
    }
   ],
   "source": [
    "# finding through css Selector\n",
    "driver = webdriver.Chrome(service = service)\n",
    "driver.get('https://www.amazon.in/Crucial-Plus-500GB-PCIe-5000MB/dp/B0B25NTRGD/ref=pd_ci_mcx_mh_mcx_views_1?pd_rd_w=qdGza&content-id=amzn1.sym.cd312cd6-6969-4220-8ac7-6dc7c0447352%3Aamzn1.symc.ca948091-a64d-450e-86d7-c161ca33337b&pf_rd_p=cd312cd6-6969-4220-8ac7-6dc7c0447352&pf_rd_r=E2CHH7DW9GTJCT35BHH3&pd_rd_wg=cNPb1&pd_rd_r=fdc2abf4-d2b3-4ea3-a760-475beed2dab1&pd_rd_i=B0B25NTRGD&th=1')\n",
    "\n",
    "product = driver.find_element(By.ID,'productTitle').text\n",
    "print(product)\n",
    "price = driver.find_element(By.CLASS_NAME, \"a-price-whole\")\n",
    "print(price.text)\n",
    "\n",
    "#using cdd selector\n",
    "merchant = driver.find_elements(By.CSS_SELECTOR,'#merchant-info span')\n",
    "merchant_detail = [mer.text for mer in merchant]\n",
    "merchant_info = \" \".join(merchant_detail)\n",
    "print(merchant_info)\n",
    "driver.quit()"
   ]
  },
  {
   "cell_type": "markdown",
   "id": "c7b13230",
   "metadata": {},
   "source": [
    "### XPath\n",
    "much better way if all else way fail\n",
    "helps to locate through path\n"
   ]
  },
  {
   "cell_type": "code",
   "execution_count": 26,
   "id": "60bbd84e",
   "metadata": {},
   "outputs": [
    {
     "name": "stdout",
     "output_type": "stream",
     "text": [
      "About this item\n",
      "Impressive read/write speeds up to 5000/4200MB/s1.\n",
      "Spacious storage up to 4TB2. NVMe PCIe 4.0 M.2 (2280).\n",
      "Backward compatibility with PCIe 3.0. Micron Advanced 3D NAND.\n",
      "Performs up to 43% faster than the fastest Gen3 NVMe SSDs3\n",
      "› See more product details\n"
     ]
    }
   ],
   "source": [
    "driver = webdriver.Chrome(service = service )\n",
    "driver.get('https://www.amazon.in/Crucial-Plus-500GB-PCIe-5000MB/dp/B0B25NTRGD/ref=pd_ci_mcx_mh_mcx_views_1?pd_rd_w=qdGza&content-id=amzn1.sym.cd312cd6-6969-4220-8ac7-6dc7c0447352%3Aamzn1.symc.ca948091-a64d-450e-86d7-c161ca33337b&pf_rd_p=cd312cd6-6969-4220-8ac7-6dc7c0447352&pf_rd_r=E2CHH7DW9GTJCT35BHH3&pd_rd_wg=cNPb1&pd_rd_r=fdc2abf4-d2b3-4ea3-a760-475beed2dab1&pd_rd_i=B0B25NTRGD&th=1')\n",
    "\n",
    "# Took whole division block of 'about' using Xpath\n",
    "about = driver.find_elements(By.XPATH,'//*[@id=\"feature-bullets\"]')\n",
    "#convert into list of text one by one\n",
    "about_list =[a.text for a in about]\n",
    "\n",
    "print(about_list[0])\n",
    "\n",
    "driver.quit()"
   ]
  },
  {
   "cell_type": "markdown",
   "id": "f8b965c6",
   "metadata": {},
   "source": [
    "# Action api's\n",
    "\n",
    "https://www.selenium.dev/documentation/webdriver/actions_api/"
   ]
  },
  {
   "cell_type": "markdown",
   "id": "358923c5",
   "metadata": {},
   "source": [
    "### Keyboard"
   ]
  },
  {
   "cell_type": "code",
   "execution_count": 29,
   "id": "9b0593de",
   "metadata": {},
   "outputs": [],
   "source": [
    "# There are many action presents for now\n",
    "#input only\n",
    "driver = webdriver.Chrome(service = service )\n",
    "driver.get('https://www.amazon.in/Crucial-Plus-500GB-PCIe-5000MB/dp/B0B25NTRGD/ref=pd_ci_mcx_mh_mcx_views_1?pd_rd_w=qdGza&content-id=amzn1.sym.cd312cd6-6969-4220-8ac7-6dc7c0447352%3Aamzn1.symc.ca948091-a64d-450e-86d7-c161ca33337b&pf_rd_p=cd312cd6-6969-4220-8ac7-6dc7c0447352&pf_rd_r=E2CHH7DW9GTJCT35BHH3&pd_rd_wg=cNPb1&pd_rd_r=fdc2abf4-d2b3-4ea3-a760-475beed2dab1&pd_rd_i=B0B25NTRGD&th=1')\n",
    "\n",
    "text_input = driver.find_element(By.ID, \"twotabsearchtextbox\")\n",
    "\n",
    "ActionChains(driver)\\   # creating action chain  and performing input\n",
    ".send_keys_to_element(text_input, \"abc\")\\\n",
    ".perform()\n",
    "\n",
    "driver.quit()"
   ]
  },
  {
   "cell_type": "markdown",
   "id": "1a898eac",
   "metadata": {},
   "source": [
    "key_down : presses the key \\\n",
    "key_up : user releases the key \\\n",
    "check the python key class to see like enter ,shift keys"
   ]
  },
  {
   "cell_type": "code",
   "execution_count": 10,
   "id": "1bfc8447",
   "metadata": {},
   "outputs": [],
   "source": [
    "# There are many action presents for now\n",
    "#input only\n",
    "driver = webdriver.Chrome(service = service )\n",
    "driver.get('https://www.amazon.in/Crucial-Plus-500GB-PCIe-5000MB/dp/B0B25NTRGD/ref=pd_ci_mcx_mh_mcx_views_1?pd_rd_w=qdGza&content-id=amzn1.sym.cd312cd6-6969-4220-8ac7-6dc7c0447352%3Aamzn1.symc.ca948091-a64d-450e-86d7-c161ca33337b&pf_rd_p=cd312cd6-6969-4220-8ac7-6dc7c0447352&pf_rd_r=E2CHH7DW9GTJCT35BHH3&pd_rd_wg=cNPb1&pd_rd_r=fdc2abf4-d2b3-4ea3-a760-475beed2dab1&pd_rd_i=B0B25NTRGD&th=1')\n",
    "\n",
    "text_input = driver.find_element(By.ID, \"twotabsearchtextbox\")\n",
    "\n",
    "ActionChains(driver).key_down(Keys.SHIFT).send_keys_to_element(text_input, \"crucial ssd\").key_up(Keys.SHIFT).key_down(Keys.ENTER).perform()\n"
   ]
  },
  {
   "cell_type": "code",
   "execution_count": null,
   "id": "74baa1e9",
   "metadata": {},
   "outputs": [],
   "source": []
  }
 ],
 "metadata": {
  "kernelspec": {
   "display_name": "Python 3 (ipykernel)",
   "language": "python",
   "name": "python3"
  },
  "language_info": {
   "codemirror_mode": {
    "name": "ipython",
    "version": 3
   },
   "file_extension": ".py",
   "mimetype": "text/x-python",
   "name": "python",
   "nbconvert_exporter": "python",
   "pygments_lexer": "ipython3",
   "version": "3.11.3"
  }
 },
 "nbformat": 4,
 "nbformat_minor": 5
}
